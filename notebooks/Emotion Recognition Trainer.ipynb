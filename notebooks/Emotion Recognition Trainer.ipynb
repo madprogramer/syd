{
 "cells": [
  {
   "cell_type": "code",
   "execution_count": 1,
   "metadata": {},
   "outputs": [],
   "source": [
    "#Bidirectional LSTM\n",
    "#DENSE OUTPUT LAYER\n",
    "\n",
    "#Based on https://github.com/maetshju/gsoc2018/blob/master/speech-blstm/01-speech-blstm.jl\n",
    "#and https://github.com/denizyuret/Knet.jl/blob/master/tutorial/60.rnn.ipynb"
   ]
  },
  {
   "cell_type": "code",
   "execution_count": 2,
   "metadata": {},
   "outputs": [],
   "source": [
    "#Input Features = 13\n",
    "\n",
    "#Emotions to train on\n",
    "#01 (Neutral) and 03 (Happy)"
   ]
  },
  {
   "cell_type": "code",
   "execution_count": 178,
   "metadata": {},
   "outputs": [
    {
     "name": "stderr",
     "output_type": "stream",
     "text": [
      "┌ Warning: Pkg.installed() is deprecated\n",
      "└ @ Pkg /Users/julia/buildbot/worker/package_macos64/build/usr/share/julia/stdlib/v1.4/Pkg/src/Pkg.jl:531\n",
      "┌ Warning: Pkg.installed() is deprecated\n",
      "└ @ Pkg /Users/julia/buildbot/worker/package_macos64/build/usr/share/julia/stdlib/v1.4/Pkg/src/Pkg.jl:531\n",
      "┌ Warning: Pkg.installed() is deprecated\n",
      "└ @ Pkg /Users/julia/buildbot/worker/package_macos64/build/usr/share/julia/stdlib/v1.4/Pkg/src/Pkg.jl:531\n"
     ]
    }
   ],
   "source": [
    "using BSON\n",
    "using Serialization\n",
    "\n",
    "ENV[\"COLUMNS\"] = 72\n",
    "using Pkg; for p in (\"Knet\",\"IterTools\",\"Plots\"); haskey(Pkg.installed(),p) || Pkg.add(p); end\n",
    "using Random: shuffle!\n",
    "using Base.Iterators: flatten\n",
    "using IterTools: ncycle, takenth\n",
    "using Knet: Knet, AutoGrad, gpu, param, param0, mat, RNN, relu, Data, adam, progress, nll, zeroone"
   ]
  },
  {
   "cell_type": "code",
   "execution_count": 4,
   "metadata": {},
   "outputs": [],
   "source": [
    "# Let's define a chain of layers\n",
    "struct Chain\n",
    "    layers\n",
    "    Chain(layers...) = new(layers)\n",
    "end\n",
    "(c::Chain)(x) = (for l in c.layers; x = l(x); end; x)\n",
    "(c::Chain)(x,y) = nll(c(x),y)\n"
   ]
  },
  {
   "cell_type": "code",
   "execution_count": 5,
   "metadata": {},
   "outputs": [],
   "source": [
    "# Redefine dense layer (See mlp.ipynb):\n",
    "struct Dense; w; b; f; end\n",
    "Dense(i::Int,o::Int,f=identity) = Dense(param(o,i), param0(o), f)\n",
    "(d::Dense)(x) = d.f.(d.w * mat(x,dims=1) .+ d.b)"
   ]
  },
  {
   "cell_type": "code",
   "execution_count": 6,
   "metadata": {},
   "outputs": [
    {
     "data": {
      "text/plain": [
       "include_1_3 (generic function with 1 method)"
      ]
     },
     "execution_count": 6,
     "metadata": {},
     "output_type": "execute_result"
    }
   ],
   "source": [
    "#Rule\n",
    "include_1_3(x) = occursin(r\"03-01-(?:01|03)-0[1-2]-0[1-2]-0[1-2]-[0-9][0-9].bson\",x)\n",
    "\n"
   ]
  },
  {
   "cell_type": "code",
   "execution_count": null,
   "metadata": {},
   "outputs": [],
   "source": []
  },
  {
   "cell_type": "code",
   "execution_count": null,
   "metadata": {},
   "outputs": [],
   "source": []
  },
  {
   "cell_type": "code",
   "execution_count": 7,
   "metadata": {},
   "outputs": [
    {
     "data": {
      "text/plain": [
       "encode_1_3 (generic function with 1 method)"
      ]
     },
     "execution_count": 7,
     "metadata": {},
     "output_type": "execute_result"
    }
   ],
   "source": [
    "#Relabling rule\n",
    "function encode_1_3(Y)\n",
    "\n",
    "ARRAY = Array{Float32}\n",
    "Ÿ = ARRAY(mat(Y))\n",
    "    \n",
    "m=ARRAY(zeros(2,length(y)));\n",
    "    \n",
    "    for i in 1:length(Ÿ)\n",
    "        m[ (Ÿ[i]==1 ? 1 : 3) ,i]=1; \n",
    "    end\n",
    "    \n",
    "return m\n",
    "\n",
    "end"
   ]
  },
  {
   "cell_type": "code",
   "execution_count": 8,
   "metadata": {},
   "outputs": [
    {
     "data": {
      "text/plain": [
       "readData (generic function with 1 method)"
      ]
     },
     "execution_count": 8,
     "metadata": {},
     "output_type": "execute_result"
    }
   ],
   "source": [
    "\"\"\"\n",
    "    readData(dataDir)\n",
    "Reads in the data contained in a specified directory\n",
    "    \n",
    "# Parameters\n",
    "* **dataDir** String of the path to the directory containing the data\n",
    "#LOAD BSON\n",
    "\n",
    "# Return\n",
    "* **Xs** Vector where each element is a vector of the frames for\n",
    "one utterance\n",
    "* **Ys** A vector where each element is a vector of the labels for\n",
    "the frames for one utterance\n",
    "\"\"\"\n",
    "\n",
    "function readData(dataDir, rule)\n",
    "    fnames = readdir(dataDir)\n",
    "\n",
    "    Xs = Vector()\n",
    "    Ys = Vector()\n",
    "    \n",
    "    for (i, fname) in enumerate(fnames)\n",
    "        print(string(i) * \"/\" * string(length(fnames)) * \"\\r\")\n",
    "        #print(fname)\n",
    "        if rule(fname) \n",
    "            BSON.@load joinpath(dataDir, fname) x y\n",
    "            \n",
    "            #println(summary(x));\n",
    "            #x = [x[i,:] for i in 1:size(x,1)]\n",
    "            #println(summary(x));\n",
    "            #y = [y[i,:] for i in 1:size(y,1)]\n",
    "            push!(Xs, x)\n",
    "            #vcat(Xs, x)\n",
    "            push!(Ys, y)\n",
    "            #vcat(Ys, y)\n",
    "            #println(y)\n",
    "            #break\n",
    "            #println(y)\n",
    "            #return\n",
    "        end\n",
    "    end\n",
    "    \n",
    "    #EXPLICIT TYPING!!!\n",
    "    return (Array{Float32,2}.(Xs), (Ys))\n",
    "end\n"
   ]
  },
  {
   "cell_type": "code",
   "execution_count": 9,
   "metadata": {},
   "outputs": [
    {
     "name": "stdout",
     "output_type": "stream",
     "text": [
      "1440/1440\r"
     ]
    }
   ],
   "source": [
    "(Xs, Ys) =  readData(\"Datasets/ravdess-26-features\", include_1_3);"
   ]
  },
  {
   "cell_type": "code",
   "execution_count": 10,
   "metadata": {},
   "outputs": [],
   "source": [
    "AllXs = (vcat(Xs...))\n",
    "AllYs = (vcat(Ys...));"
   ]
  },
  {
   "cell_type": "code",
   "execution_count": 11,
   "metadata": {},
   "outputs": [],
   "source": [
    "#MASH SAMPLES TOGETHER TO FORM A SUPERMASSIVE ARRAY!!!\n",
    "#AllXs\n",
    "\n",
    "#reshape(AllXs[1:100,:],13,20,5)\n"
   ]
  },
  {
   "cell_type": "code",
   "execution_count": 12,
   "metadata": {},
   "outputs": [
    {
     "data": {
      "text/plain": [
       "seqbatchTest (generic function with 1 method)"
      ]
     },
     "execution_count": 12,
     "metadata": {},
     "output_type": "execute_result"
    }
   ],
   "source": [
    "BATCHSIZE = 16\n",
    "SEQLENGTH = 8;\n",
    "\n",
    "#Since there is no embedding, you can just treat the features like the X dimension!\n",
    "\n",
    "function seqbatch(x,y,F,B,T)\n",
    "    \n",
    "    #X IS ALREADY 2D DON'T DIVIDE BY LENGTH\n",
    "    #N = length(x) ÷ B\n",
    "    N = size(AllXs)[1] ÷ B\n",
    "    println(N)\n",
    "    println(B)\n",
    "    println(T)\n",
    "    \n",
    "    x = (reshape(x[1:N*B,:],F,N,B))\n",
    "    println(summary(x))\n",
    "    \n",
    "    y = (reshape(y[1:N*B,:],1,N,B))\n",
    "    println(summary(y))\n",
    "    \n",
    "    d = []; for i in 0:T:N-T\n",
    "        push!(d, (x[:,i+1:i+T,:], y[:,i+1:i+T,:]))\n",
    "    end\n",
    "    return d\n",
    "end\n",
    "\n",
    "\n",
    "function seqbatchTest(x,y,B,T)\n",
    "    \n",
    "    #X IS ALREADY 2D DON'T DIVIDE BY LENGTH\n",
    "    #N = length(x) ÷ B\n",
    "    println(size(AllXs)[1])\n",
    "    N = size(AllXs)[1] ÷ B\n",
    "    println(N)\n",
    "    println(B)\n",
    "    println(T)\n",
    "    \n",
    "    println(summary(y))\n",
    "    y = (reshape(y[:,1:N*B,:],1,N,B))\n",
    "    println(summary(y))\n",
    "    \n",
    "    #ONEHOT ENCODE\n",
    "end\n",
    "\n",
    "\n"
   ]
  },
  {
   "cell_type": "code",
   "execution_count": 17,
   "metadata": {},
   "outputs": [],
   "source": [
    "FEATURES = 26\n",
    "HIDDENSIZE = 32\n",
    "OUTPUTSIZE = 2;"
   ]
  },
  {
   "cell_type": "code",
   "execution_count": 18,
   "metadata": {},
   "outputs": [
    {
     "name": "stdout",
     "output_type": "stream",
     "text": [
      "6453\n",
      "16\n",
      "8\n",
      "26×6453×16 Array{Float32,3}\n",
      "1×6453×16 Array{UInt8,3}\n"
     ]
    }
   ],
   "source": [
    "d = seqbatch(AllXs, AllYs, FEATURES, BATCHSIZE, SEQLENGTH);\n",
    "#d = seqbatchTest(AllXs, AllYs,  BATCHSIZE, SEQLENGTH);\n",
    "#Target 2x64x32"
   ]
  },
  {
   "cell_type": "code",
   "execution_count": 19,
   "metadata": {},
   "outputs": [],
   "source": [
    "#summary(d[1][2])\n"
   ]
  },
  {
   "cell_type": "code",
   "execution_count": 20,
   "metadata": {},
   "outputs": [],
   "source": [
    "#display(permutedims(Xs))"
   ]
  },
  {
   "cell_type": "code",
   "execution_count": 21,
   "metadata": {},
   "outputs": [],
   "source": [
    "#mat(Xs[1])"
   ]
  },
  {
   "cell_type": "code",
   "execution_count": 22,
   "metadata": {},
   "outputs": [],
   "source": [
    "# shuffle and split minibatches into train and test portions\n",
    "shuffle!(d)\n",
    "dtst = d[1:10]\n",
    "dtrn = d[11:end];"
   ]
  },
  {
   "cell_type": "code",
   "execution_count": 23,
   "metadata": {},
   "outputs": [
    {
     "data": {
      "text/plain": [
       "(796, 10)"
      ]
     },
     "execution_count": 23,
     "metadata": {},
     "output_type": "execute_result"
    }
   ],
   "source": [
    "#size(dtrn[1],1)\n",
    "length.((dtrn,dtst))"
   ]
  },
  {
   "cell_type": "code",
   "execution_count": 185,
   "metadata": {},
   "outputs": [
    {
     "data": {
      "text/plain": [
       "trainresults (generic function with 1 method)"
      ]
     },
     "execution_count": 185,
     "metadata": {},
     "output_type": "execute_result"
    }
   ],
   "source": [
    "function trainresults(file,maker,savemodel)\n",
    "    if (print(\"Train from scratch? \"); readline()[1]=='y')\n",
    "        model = maker()\n",
    "        results = ((nll(model,dtst), zeroone(model,dtst))\n",
    "                   for x in takenth(progress(adam(model,ncycle(dtrn,5))),100))\n",
    "        results = reshape(collect(Float32,flatten(results)),(2,:))\n",
    "        Knet.save(file,\"model\",(savemodel ? model : nothing),\"results\",results)\n",
    "        serialize(\"EmRec160\", model)\n",
    "        Knet.gc() # To save gpu memory\n",
    "    else\n",
    "        println(\"¯\\\\_(ツ)_/¯\")\n",
    "    end\n",
    "    println(minimum(results,dims=2))\n",
    "    return model,results\n",
    "end"
   ]
  },
  {
   "cell_type": "code",
   "execution_count": 186,
   "metadata": {},
   "outputs": [],
   "source": [
    "BIRNN(input,hidden,output)=  # biRNN \n",
    "Chain(RNN(input,hidden,rnnType=:relu,bidirectional=true,dataType=Float32),Dense(2hidden,output));"
   ]
  },
  {
   "cell_type": "code",
   "execution_count": 187,
   "metadata": {},
   "outputs": [
    {
     "name": "stdout",
     "output_type": "stream",
     "text": [
      "Train from scratch? stdin> y\n"
     ]
    },
    {
     "name": "stderr",
     "output_type": "stream",
     "text": [
      "┣████████████████████┫ [100.00%, 3980/3980, 01:22/01:22, 48.56i/s] \n"
     ]
    },
    {
     "name": "stdout",
     "output_type": "stream",
     "text": [
      "Float32[0.49359646; 0.20859376]\n"
     ]
    }
   ],
   "source": [
    "HIDDENSIZE = 160\n",
    "\n",
    "EMREC() = BIRNN(FEATURES,HIDDENSIZE,OUTPUTSIZE)\n",
    "(tEm,rEm) = trainresults(\"emrec-new.jld2\",EMREC,true);"
   ]
  },
  {
   "cell_type": "code",
   "execution_count": 188,
   "metadata": {},
   "outputs": [],
   "source": [
    "using Plots; default(fmt=:png,ls=:auto,ymirror=true)"
   ]
  },
  {
   "cell_type": "code",
   "execution_count": 189,
   "metadata": {},
   "outputs": [
    {
     "data": {
      "image/png": "[encoded data removed]"
     },
     "execution_count": 189,
     "metadata": {},
     "output_type": "execute_result"
    }
   ],
   "source": [
    "plot([rEm[2,:]]; xlabel=\"updates\", ylabel=\"error\",\n",
    "    ylim=(0,0.5), yticks=0:0.02:0.5, labels=[\"biRNN\"])"
   ]
  },
  {
   "cell_type": "code",
   "execution_count": 190,
   "metadata": {},
   "outputs": [
    {
     "data": {
      "text/plain": [
       "2-element Array{String,1}:\n",
       " \"neutral\"\n",
       " \"happy\""
      ]
     },
     "execution_count": 190,
     "metadata": {},
     "output_type": "execute_result"
    }
   ],
   "source": [
    "emotions = [\"neutral\",\"happy\"]\n",
    "s=[1,2]\n",
    "emotions[s]"
   ]
  },
  {
   "cell_type": "code",
   "execution_count": 191,
   "metadata": {},
   "outputs": [
    {
     "data": {
      "text/plain": [
       "tag (generic function with 1 method)"
      ]
     },
     "execution_count": 191,
     "metadata": {},
     "output_type": "execute_result"
    }
   ],
   "source": [
    "function tag(tagger,k,L)\n",
    "    #samples = s\n",
    "    #println(samples)\n",
    "    labels = emotions[(x->x[1]).(argmax(Array(tEm(reshape(Xs[k],26,1,L))),dims=1))]\n",
    "    #vcat(samples,labels)\n",
    "    labels\n",
    "end"
   ]
  },
  {
   "cell_type": "code",
   "execution_count": 195,
   "metadata": {},
   "outputs": [
    {
     "name": "stdout",
     "output_type": "stream",
     "text": [
      "0.6920731707317073\n",
      "0.7409638554216867\n",
      "0.7072463768115942\n"
     ]
    }
   ],
   "source": [
    "println(count(i->(i==\"happy\"),tag(EMREC,1,328))/328 )\n",
    "println(count(i->(i==\"happy\"),tag(EMREC,2,332))/332 )\n",
    "println(count(i->(i==\"happy\"),tag(EMREC,5,345))/345 )"
   ]
  },
  {
   "cell_type": "code",
   "execution_count": 176,
   "metadata": {},
   "outputs": [
    {
     "data": {
      "text/plain": [
       "2×328 Array{Float32,2}:\n",
       " 2.75643  16.4679  4.13812  -2.88428  …  -0.131404  -0.469497\n",
       " 7.17115  18.9915  4.73537   1.52992      1.95534    0.00370207"
      ]
     },
     "execution_count": 176,
     "metadata": {},
     "output_type": "execute_result"
    }
   ],
   "source": [
    "tEm( reshape(Xs[1],26,1,328) ) "
   ]
  },
  {
   "cell_type": "code",
   "execution_count": 143,
   "metadata": {},
   "outputs": [
    {
     "data": {
      "text/plain": [
       "26×1×328 Array{Float32,3}:\n",
       "[:, :, 1] =\n",
       " -158.44759\n",
       " -504.6143\n",
       " -167.6936\n",
       " -136.85472\n",
       " -145.15147\n",
       " -125.939644\n",
       " -144.97498\n",
       " -128.19456\n",
       " -123.62134\n",
       " -128.04933\n",
       " -121.64569\n",
       " -131.79652\n",
       " -144.95607\n",
       " -132.5605\n",
       " -131.79839\n",
       " -120.24388\n",
       " -114.45146\n",
       " -132.20493\n",
       " -146.28842\n",
       " -133.9444\n",
       " -121.4317\n",
       " -122.54968\n",
       " -135.39066\n",
       " -120.81583\n",
       " -125.24479\n",
       " -148.99736\n",
       "\n",
       "[:, :, 2] =\n",
       " -152.01717\n",
       " -129.17183\n",
       " -128.77753\n",
       " -123.08497\n",
       " -118.05649\n",
       " -129.42528\n",
       " -144.80547\n",
       " -158.45955\n",
       " -133.35197\n",
       " -138.40515\n",
       " -127.94004\n",
       " -129.50296\n",
       " -163.9895\n",
       " -133.83154\n",
       " -147.7202\n",
       " -155.95316\n",
       " -131.39186\n",
       " -139.14969\n",
       " -504.6143\n",
       " -136.34299\n",
       " -141.58849\n",
       " -134.33522\n",
       " -150.74562\n",
       " -504.6143\n",
       " -144.35312\n",
       " -137.95537\n",
       "\n",
       "[:, :, 3] =\n",
       " -135.96745\n",
       " -135.85068\n",
       " -134.13023\n",
       " -138.34065\n",
       " -141.93942\n",
       " -122.505226\n",
       " -124.69218\n",
       " -135.82951\n",
       " -138.99739\n",
       " -504.6143\n",
       " -140.20514\n",
       " -132.4192\n",
       " -138.37752\n",
       " -136.61874\n",
       " -167.43106\n",
       " -126.84669\n",
       " -114.310646\n",
       " -131.92824\n",
       " -129.47511\n",
       " -128.79141\n",
       " -123.33966\n",
       " -109.99274\n",
       " -109.62951\n",
       " -107.56798\n",
       " -105.977325\n",
       " -112.71718\n",
       "\n",
       "...\n",
       "\n",
       "[:, :, 326] =\n",
       "  0.7339962\n",
       " -1.9848666\n",
       " -1.3742521\n",
       " -0.60061365\n",
       "  1.3857676\n",
       " -0.16916655\n",
       " -1.7824131\n",
       "  0.7564377\n",
       "  2.997078\n",
       "  2.642488\n",
       "  0.09083113\n",
       " -2.8384686\n",
       " -0.33736816\n",
       " -1.1352878\n",
       " -1.0741086\n",
       "  1.6863685\n",
       " -1.1944406\n",
       "  0.67579377\n",
       "  1.7552041\n",
       " -0.8293046\n",
       "  1.1366284\n",
       "  0.059378874\n",
       " -5.2142115\n",
       " -0.6771923\n",
       "  3.1849155\n",
       " -0.24889569\n",
       "\n",
       "[:, :, 327] =\n",
       " -2.0754547\n",
       "  2.3029435\n",
       "  3.5611916\n",
       " -0.056710064\n",
       " -1.2790362\n",
       " -1.8142053\n",
       "  2.4836671\n",
       "  2.7215927\n",
       " -3.1113784\n",
       " -1.7589687\n",
       " -0.53895885\n",
       "  0.16725673\n",
       "  0.4263791\n",
       "  0.13568652\n",
       "  1.3870782\n",
       "  0.19597428\n",
       " -2.0740695\n",
       " -0.97173333\n",
       "  0.86117554\n",
       "  3.2659135\n",
       "  3.1587477\n",
       " -4.069334\n",
       " -1.310712\n",
       "  2.4273438\n",
       " -0.4762212\n",
       " -0.41184056\n",
       "\n",
       "[:, :, 328] =\n",
       "  2.1618426\n",
       " -0.73056716\n",
       " -0.6558242\n",
       "  0.7991161\n",
       " -1.1588255\n",
       "  0.39780518\n",
       "  1.1533339\n",
       " -2.2365828\n",
       " -2.5823913\n",
       "  2.2891471\n",
       "  0.4180058\n",
       " -1.2510034\n",
       "  3.6278741\n",
       " -0.13251485\n",
       " -4.5577154\n",
       "  0.73826575\n",
       "  0.60106754\n",
       " -1.8751875\n",
       " -1.3248892\n",
       "  0.9157299\n",
       "  1.7807138\n",
       " -0.99196446\n",
       " -2.4718218\n",
       "  0.520739\n",
       "  1.052852\n",
       " -0.67866457"
      ]
     },
     "execution_count": 143,
     "metadata": {},
     "output_type": "execute_result"
    }
   ],
   "source": [
    "reshape(Xs[1],26,1,328)"
   ]
  },
  {
   "cell_type": "code",
   "execution_count": null,
   "metadata": {},
   "outputs": [],
   "source": []
  }
 ],
 "metadata": {
  "kernelspec": {
   "display_name": "Julia 1.4.0",
   "language": "julia",
   "name": "julia-1.4"
  },
  "language_info": {
   "file_extension": ".jl",
   "mimetype": "application/julia",
   "name": "julia",
   "version": "1.4.0"
  },
  "latex_envs": {
   "LaTeX_envs_menu_present": true,
   "autoclose": false,
   "autocomplete": true,
   "bibliofile": "biblio.bib",
   "cite_by": "apalike",
   "current_citInitial": 1,
   "eqLabelWithNumbers": true,
   "eqNumInitial": 1,
   "hotkeys": {
    "equation": "Ctrl-E",
    "itemize": "Ctrl-I"
   },
   "labels_anchors": false,
   "latex_user_defs": false,
   "report_style_numbering": false,
   "user_envs_cfg": false
  }
 },
 "nbformat": 4,
 "nbformat_minor": 2
}
