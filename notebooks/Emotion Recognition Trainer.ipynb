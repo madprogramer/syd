{
 "cells": [
  {
   "cell_type": "code",
   "execution_count": 127,
   "metadata": {},
   "outputs": [],
   "source": [
    "#Bidirectional LSTM\n",
    "#DENSE OUTPUT LAYER\n",
    "\n",
    "#Based on https://github.com/maetshju/gsoc2018/blob/master/speech-blstm/01-speech-blstm.jl\n",
    "#and https://github.com/denizyuret/Knet.jl/blob/master/tutorial/60.rnn.ipynb"
   ]
  },
  {
   "cell_type": "code",
   "execution_count": 128,
   "metadata": {},
   "outputs": [],
   "source": [
    "#Input Features = 13\n",
    "\n",
    "#Emotions to train on\n",
    "#01 (Neutral) and 03 (Happy)\n",
    "\n",
    "##USING 23 NOW INSTEAD\n",
    "#02 (Calm) and 03 (Happy)"
   ]
  },
  {
   "cell_type": "code",
   "execution_count": 240,
   "metadata": {},
   "outputs": [
    {
     "name": "stderr",
     "output_type": "stream",
     "text": [
      "┌ Warning: Pkg.installed() is deprecated\n",
      "└ @ Pkg /Users/julia/buildbot/worker/package_macos64/build/usr/share/julia/stdlib/v1.4/Pkg/src/Pkg.jl:531\n",
      "┌ Warning: Pkg.installed() is deprecated\n",
      "└ @ Pkg /Users/julia/buildbot/worker/package_macos64/build/usr/share/julia/stdlib/v1.4/Pkg/src/Pkg.jl:531\n",
      "┌ Warning: Pkg.installed() is deprecated\n",
      "└ @ Pkg /Users/julia/buildbot/worker/package_macos64/build/usr/share/julia/stdlib/v1.4/Pkg/src/Pkg.jl:531\n"
     ]
    }
   ],
   "source": [
    "using BSON\n",
    "\n",
    "\n",
    "ENV[\"COLUMNS\"] = 72\n",
    "using Pkg; for p in (\"Knet\",\"IterTools\",\"Plots\"); haskey(Pkg.installed(),p) || Pkg.add(p); end\n",
    "using Random: shuffle!\n",
    "using Base.Iterators: flatten\n",
    "using IterTools: ncycle, takenth\n",
    "using Knet: Knet, AutoGrad, gpu, param, param0, mat, RNN, relu, Data, adam, sgd, progress, nll, zeroone"
   ]
  },
  {
   "cell_type": "code",
   "execution_count": 130,
   "metadata": {},
   "outputs": [],
   "source": [
    "# Let's define a chain of layers\n",
    "struct Chain\n",
    "    layers\n",
    "    Chain(layers...) = new(layers)\n",
    "end\n",
    "(c::Chain)(x) = (for l in c.layers; x = l(x); end; x)\n",
    "(c::Chain)(x,y) = nll(c(x),y)\n"
   ]
  },
  {
   "cell_type": "code",
   "execution_count": 974,
   "metadata": {},
   "outputs": [],
   "source": [
    "# Redefine dense layer (See mlp.ipynb):\n",
    "struct Dense; w; b; f; end\n",
    "Dense(i::Int,o::Int,f=identity) = Dense(param(o,i), param0(o), f)\n",
    "(d::Dense)(x) = d.f.(d.w * mat(x,dims=1) .+ d.b)\n",
    "\n",
    "struct DenseRelu; w; b; f; end\n",
    "DenseRelu(i::Int,o::Int,f=relu) = DenseRelu(param(o,i), param0(o), f)\n",
    "(d::DenseRelu)(x) = d.f.(d.w * mat(x,dims=1) .+ d.b)"
   ]
  },
  {
   "cell_type": "code",
   "execution_count": 132,
   "metadata": {},
   "outputs": [
    {
     "data": {
      "text/plain": [
       "include_2_3 (generic function with 1 method)"
      ]
     },
     "execution_count": 132,
     "metadata": {},
     "output_type": "execute_result"
    }
   ],
   "source": [
    "#Rule\n",
    "include_1_3(x) = occursin(r\"03-01-(?:01|03)-0[1-2]-0[1-2]-0[1-2]-[0-9][0-9].bson\",x)\n",
    "\n",
    "include_2_3(x) = occursin(r\"03-01-(?:02|03)-0[1-2]-0[1-2]-0[1-2]-[0-9][0-9].bson\",x)\n",
    "\n"
   ]
  },
  {
   "cell_type": "code",
   "execution_count": null,
   "metadata": {},
   "outputs": [],
   "source": []
  },
  {
   "cell_type": "code",
   "execution_count": null,
   "metadata": {},
   "outputs": [],
   "source": []
  },
  {
   "cell_type": "code",
   "execution_count": 7,
   "metadata": {},
   "outputs": [
    {
     "data": {
      "text/plain": [
       "encode_1_3 (generic function with 1 method)"
      ]
     },
     "execution_count": 7,
     "metadata": {},
     "output_type": "execute_result"
    }
   ],
   "source": [
    "#Relabling rule\n",
    "function encode_1_3(Y)\n",
    "\n",
    "ARRAY = Array{Float32}\n",
    "Ÿ = ARRAY(mat(Y))\n",
    "    \n",
    "m=ARRAY(zeros(2,length(y)));\n",
    "    \n",
    "    for i in 1:length(Ÿ)\n",
    "        m[ (Ÿ[i]==1 ? 1 : 3) ,i]=1; \n",
    "    end\n",
    "    \n",
    "return m\n",
    "\n",
    "end\n",
    "\n",
    "\n",
    "#Relabling rule\n",
    "function encode_2_3(Y)\n",
    "\n",
    "ARRAY = Array{Float32}\n",
    "Ÿ = ARRAY(mat(Y))\n",
    "    \n",
    "m=ARRAY(zeros(2,length(y)));\n",
    "    \n",
    "    for i in 1:length(Ÿ)\n",
    "        m[ (Ÿ[i]==2 ? 1 : 3) ,i]=1; \n",
    "    end\n",
    "    \n",
    "return m\n",
    "\n",
    "end\n",
    "\n"
   ]
  },
  {
   "cell_type": "code",
   "execution_count": 133,
   "metadata": {},
   "outputs": [
    {
     "data": {
      "text/plain": [
       "readData (generic function with 1 method)"
      ]
     },
     "execution_count": 133,
     "metadata": {},
     "output_type": "execute_result"
    }
   ],
   "source": [
    "\"\"\"\n",
    "    readData(dataDir)\n",
    "Reads in the data contained in a specified directory\n",
    "    \n",
    "# Parameters\n",
    "* **dataDir** String of the path to the directory containing the data\n",
    "#LOAD BSON\n",
    "\n",
    "# Return\n",
    "* **Xs** Vector where each element is a vector of the frames for\n",
    "one utterance\n",
    "* **Ys** A vector where each element is a vector of the labels for\n",
    "the frames for one utterance\n",
    "\"\"\"\n",
    "\n",
    "function readData(dataDir, rule)\n",
    "    fnames = readdir(dataDir)\n",
    "\n",
    "    Xs = Vector()\n",
    "    Ys = Vector()\n",
    "    \n",
    "    for (i, fname) in enumerate(fnames)\n",
    "        print(string(i) * \"/\" * string(length(fnames)) * \"\\r\")\n",
    "        #print(fname)\n",
    "        if rule(fname) \n",
    "            BSON.@load joinpath(dataDir, fname) x y\n",
    "            \n",
    "            #println(summary(x));\n",
    "            #x = [x[i,:] for i in 1:size(x,1)]\n",
    "            #println(summary(x));\n",
    "            #y = [y[i,:] for i in 1:size(y,1)]\n",
    "            push!(Xs, x)\n",
    "            #vcat(Xs, x)\n",
    "            push!(Ys, y)\n",
    "            #vcat(Ys, y)\n",
    "            #println(y)\n",
    "            #break\n",
    "            #println(y)\n",
    "            #return\n",
    "        end\n",
    "    end\n",
    "    \n",
    "    #EXPLICIT TYPING!!!\n",
    "    return (Array{Float32,2}.(Xs), (Ys))\n",
    "end\n"
   ]
  },
  {
   "cell_type": "code",
   "execution_count": 134,
   "metadata": {},
   "outputs": [
    {
     "name": "stdout",
     "output_type": "stream",
     "text": [
      "1440/1440\r"
     ]
    }
   ],
   "source": [
    "#(Xs, Ys) =  readData(\"Datasets/ravdess-26-features\", include_1_3);\n",
    "(Xs, Ys) =  readData(\"Datasets/ravdess-26-features-2-3\", include_2_3);"
   ]
  },
  {
   "cell_type": "code",
   "execution_count": 135,
   "metadata": {},
   "outputs": [],
   "source": [
    "AllXs = (vcat(Xs...))\n",
    "AllYs = (vcat(Ys...));"
   ]
  },
  {
   "cell_type": "code",
   "execution_count": 11,
   "metadata": {},
   "outputs": [],
   "source": [
    "#MASH SAMPLES TOGETHER TO FORM A SUPERMASSIVE ARRAY!!!\n",
    "#AllXs\n",
    "\n",
    "#reshape(AllXs[1:100,:],13,20,5)\n"
   ]
  },
  {
   "cell_type": "code",
   "execution_count": 912,
   "metadata": {},
   "outputs": [
    {
     "data": {
      "text/plain": [
       "seqbatchTest (generic function with 1 method)"
      ]
     },
     "execution_count": 912,
     "metadata": {},
     "output_type": "execute_result"
    }
   ],
   "source": [
    "BATCHSIZE = 18\n",
    "SEQLENGTH = 8;\n",
    "\n",
    "#Since there is no embedding, you can just treat the features like the X dimension!\n",
    "\n",
    "function seqbatch(x,y,F,B,T)\n",
    "    \n",
    "    #X IS ALREADY 2D DON'T DIVIDE BY LENGTH\n",
    "    #N = length(x) ÷ B\n",
    "    N = size(AllXs)[1] ÷ B\n",
    "    println(N)\n",
    "    println(B)\n",
    "    println(T)\n",
    "    \n",
    "    x = (reshape(x[1:N*B,:],F,N,B))\n",
    "    println(summary(x))\n",
    "    \n",
    "    y = (reshape(y[1:N*B,:],1,N,B))\n",
    "    println(summary(y))\n",
    "    \n",
    "    d = []; for i in 0:T:N-T\n",
    "        push!(d, (x[:,i+1:i+T,:], y[:,i+1:i+T,:]))\n",
    "    end\n",
    "    return d\n",
    "end\n",
    "\n",
    "\n",
    "function seqbatchTest(x,y,B,T)\n",
    "    \n",
    "    #X IS ALREADY 2D DON'T DIVIDE BY LENGTH\n",
    "    #N = length(x) ÷ B\n",
    "    println(size(AllXs)[1])\n",
    "    N = size(AllXs)[1] ÷ B\n",
    "    println(N)\n",
    "    println(B)\n",
    "    println(T)\n",
    "    \n",
    "    println(summary(y))\n",
    "    y = (reshape(y[:,1:N*B,:],1,N,B))\n",
    "    println(summary(y))\n",
    "    \n",
    "    #ONEHOT ENCODE\n",
    "end\n",
    "\n",
    "\n"
   ]
  },
  {
   "cell_type": "code",
   "execution_count": 913,
   "metadata": {},
   "outputs": [],
   "source": [
    "FEATURES = 26\n",
    "HIDDENSIZE = 160\n",
    "OUTPUTSIZE = 2;"
   ]
  },
  {
   "cell_type": "code",
   "execution_count": 914,
   "metadata": {},
   "outputs": [
    {
     "name": "stdout",
     "output_type": "stream",
     "text": [
      "7948\n",
      "18\n",
      "8\n",
      "26×7948×18 Array{Float32,3}\n",
      "1×7948×18 Array{UInt8,3}\n"
     ]
    }
   ],
   "source": [
    "d = seqbatch(AllXs, AllYs, FEATURES, BATCHSIZE, SEQLENGTH);\n",
    "#d = seqbatchTest(AllXs, AllYs,  BATCHSIZE, SEQLENGTH);\n",
    "#Target 2x64x32"
   ]
  },
  {
   "cell_type": "code",
   "execution_count": 915,
   "metadata": {},
   "outputs": [],
   "source": [
    "#summary(d[1][2])\n"
   ]
  },
  {
   "cell_type": "code",
   "execution_count": 916,
   "metadata": {},
   "outputs": [],
   "source": [
    "#display(permutedims(Xs))"
   ]
  },
  {
   "cell_type": "code",
   "execution_count": 917,
   "metadata": {},
   "outputs": [],
   "source": [
    "#mat(Xs[1])"
   ]
  },
  {
   "cell_type": "code",
   "execution_count": 918,
   "metadata": {},
   "outputs": [],
   "source": [
    "# shuffle and split minibatches into train and test portions\n",
    "shuffle!(d)\n",
    "dtst = d[1:10]\n",
    "dtrn = d[11:end];"
   ]
  },
  {
   "cell_type": "code",
   "execution_count": 919,
   "metadata": {},
   "outputs": [
    {
     "data": {
      "text/plain": [
       "(983, 10)"
      ]
     },
     "execution_count": 919,
     "metadata": {},
     "output_type": "execute_result"
    }
   ],
   "source": [
    "#size(dtrn[1],1)\n",
    "length.((dtrn,dtst))"
   ]
  },
  {
   "cell_type": "code",
   "execution_count": 920,
   "metadata": {},
   "outputs": [
    {
     "data": {
      "text/plain": [
       "trainresults (generic function with 1 method)"
      ]
     },
     "execution_count": 920,
     "metadata": {},
     "output_type": "execute_result"
    }
   ],
   "source": [
    "function trainresults(file,maker,savemodel)\n",
    "    if (print(\"Train from scratch? \"); readline()[1]=='y')\n",
    "        model = maker()\n",
    "        results = ((nll(model,dtst), zeroone(model,dtst))\n",
    "                   for x in takenth(progress(adam(model,ncycle(dtrn,5))),100))\n",
    "        results = reshape(collect(Float32,flatten(results)),(2,:))\n",
    "        Knet.save(file,\"model\",(savemodel ? model : nothing),\"results\",results)\n",
    "        #serialize(\"EmRec160\", model)\n",
    "        Knet.gc() # To save gpu memory\n",
    "    else\n",
    "        println(\"¯\\\\_(ツ)_/¯\")\n",
    "    end\n",
    "    println(minimum(results,dims=2))\n",
    "    return model,results\n",
    "end"
   ]
  },
  {
   "cell_type": "code",
   "execution_count": 921,
   "metadata": {},
   "outputs": [],
   "source": [
    "BIRNN(input,hidden,output)=  # biRNN \n",
    "Chain(RNN(input,hidden,rnnType=:relu,bidirectional=true,dataType=Float32),Dense(2hidden,output));"
   ]
  },
  {
   "cell_type": "code",
   "execution_count": 975,
   "metadata": {},
   "outputs": [],
   "source": [
    "BIGRNN(input,hidden,hidden2,output)=  # biRNN \n",
    "Chain(RNN(input,hidden,rnnType=:relu,bidirectional=true,dataType=Float32),DenseRelu(2hidden,hidden2),Dense(hidden2,output));"
   ]
  },
  {
   "cell_type": "code",
   "execution_count": 993,
   "metadata": {},
   "outputs": [],
   "source": [
    "BEEGRNN(input,hidden,hidden2,hidden3,output)=  # biRNN \n",
    "Chain(RNN(input,hidden,rnnType=:relu,bidirectional=true,dataType=Float32),DenseRelu(2hidden,hidden2),DenseRelu(hidden2,hidden3),Dense(hidden3,output));"
   ]
  },
  {
   "cell_type": "code",
   "execution_count": 1078,
   "metadata": {},
   "outputs": [],
   "source": [
    "BEEGESTRNN(input,hidden,hidden2,hidden3,hidden4,output)=  # biRNN \n",
    "Chain(RNN(input,hidden,rnnType=:relu,bidirectional=true,dataType=Float32),DenseRelu(2hidden,hidden2),DenseRelu(hidden2,hidden3),DenseRelu(hidden3,hidden4),Dense(hidden4,output));"
   ]
  },
  {
   "cell_type": "code",
   "execution_count": 922,
   "metadata": {},
   "outputs": [
    {
     "name": "stdout",
     "output_type": "stream",
     "text": [
      "Train from scratch? stdin> y\n"
     ]
    },
    {
     "name": "stderr",
     "output_type": "stream",
     "text": [
      "┣████████████████████┫ [100.00%, 4915/4915, 02:37/02:37, 31.27i/s] \n"
     ]
    },
    {
     "name": "stdout",
     "output_type": "stream",
     "text": [
      "Float32[0.48851445; 0.2326389]\n"
     ]
    }
   ],
   "source": [
    "HIDDENSIZE = 190\n",
    "\n",
    "EMREC() = BIRNN(FEATURES,HIDDENSIZE,OUTPUTSIZE)\n",
    "(tEm,rEm) = trainresults(\"Emrec-2-3-190.jld2\",EMREC,true);"
   ]
  },
  {
   "cell_type": "code",
   "execution_count": 1051,
   "metadata": {},
   "outputs": [
    {
     "name": "stdout",
     "output_type": "stream",
     "text": [
      "Train from scratch? stdin> y\n"
     ]
    },
    {
     "name": "stderr",
     "output_type": "stream",
     "text": [
      "┣████████████████████┫ [100.00%, 4915/4915, 01:43/01:43, 47.50i/s] \n"
     ]
    },
    {
     "name": "stdout",
     "output_type": "stream",
     "text": [
      "Float32[0.48949966; 0.23125]\n"
     ]
    }
   ],
   "source": [
    "HIDDENSIZE1 = 128\n",
    "HIDDENSIZE2 = 64\n",
    "\n",
    "EMREC() = BIGRNN(FEATURES,HIDDENSIZE1,HIDDENSIZE2,OUTPUTSIZE)\n",
    "\n",
    "(TEM,REM) = trainresults(\"BIGEMRECv2.jld2\",EMREC,true);"
   ]
  },
  {
   "cell_type": "code",
   "execution_count": 1059,
   "metadata": {},
   "outputs": [
    {
     "name": "stdout",
     "output_type": "stream",
     "text": [
      "Train from scratch? stdin> y\n"
     ]
    },
    {
     "name": "stderr",
     "output_type": "stream",
     "text": [
      "┣████████████████████┫ [100.00%, 4915/4915, 01:42/01:42, 48.34i/s] \n"
     ]
    },
    {
     "name": "stdout",
     "output_type": "stream",
     "text": [
      "Float32[0.47396737; 0.21388888]\n"
     ]
    }
   ],
   "source": [
    "HIDDENSIZE1 = 128\n",
    "HIDDENSIZE2 = 64\n",
    "HIDDENSIZE3 = 32\n",
    "\n",
    "EMREC() = BEEGRNN(FEATURES,HIDDENSIZE1,HIDDENSIZE2,HIDDENSIZE3,OUTPUTSIZE)\n",
    "\n",
    "(TEM,REM) = trainresults(\"BEEGEMREC.jld2\",EMREC,true);"
   ]
  },
  {
   "cell_type": "code",
   "execution_count": 1088,
   "metadata": {},
   "outputs": [
    {
     "name": "stdout",
     "output_type": "stream",
     "text": [
      "Train from scratch? stdin> y\n"
     ]
    },
    {
     "name": "stderr",
     "output_type": "stream",
     "text": [
      "┣████████████████████┫ [100.00%, 4915/4915, 02:37/02:37, 31.22i/s] \n"
     ]
    },
    {
     "name": "stdout",
     "output_type": "stream",
     "text": [
      "Float32[0.45473367; 0.19722222]\n"
     ]
    }
   ],
   "source": [
    "HIDDENSIZE1 = 190\n",
    "HIDDENSIZE2 = 90\n",
    "HIDDENSIZE3 = 40\n",
    "HIDDENSIZE4 = 20\n",
    "\n",
    "EMREC() = BEEGESTRNN(FEATURES,HIDDENSIZE1,HIDDENSIZE2,HIDDENSIZE3,HIDDENSIZE4,OUTPUTSIZE)\n",
    "\n",
    "(TEM,REM) = trainresults(\"BEEGESTEMRECv2.jld2\",EMREC,true);"
   ]
  },
  {
   "cell_type": "code",
   "execution_count": 1111,
   "metadata": {},
   "outputs": [],
   "source": [
    "MAGICRNN(input,hidden1,hidden2,output)=  # biRNN \n",
    "Chain(RNN(input,hidden1,rnnType=:relu,bidirectional=true,dataType=Float32),RNN(2hidden1,hidden2,rnnType=:relu,bidirectional=true,dataType=Float32),Dense(2hidden2,output));"
   ]
  },
  {
   "cell_type": "code",
   "execution_count": 1120,
   "metadata": {},
   "outputs": [
    {
     "name": "stdout",
     "output_type": "stream",
     "text": [
      "Train from scratch? stdin> y\n"
     ]
    },
    {
     "name": "stderr",
     "output_type": "stream",
     "text": [
      "┣████████████████████┫ [100.00%, 4915/4915, 02:38/02:38, 31.15i/s] \n"
     ]
    },
    {
     "name": "stdout",
     "output_type": "stream",
     "text": [
      "Float32[0.5181109; 0.2375]\n"
     ]
    }
   ],
   "source": [
    "HIDDENSIZE1 = 128\n",
    "HIDDENSIZE2 = 32\n",
    "\n",
    "EMREC() = MAGICRNN(FEATURES,HIDDENSIZE1,HIDDENSIZE2,OUTPUTSIZE)\n",
    "(TEM,REM) = trainresults(\"MagicEmRec.jld2\",EMREC,true);"
   ]
  },
  {
   "cell_type": "code",
   "execution_count": 1130,
   "metadata": {},
   "outputs": [
    {
     "data": {
      "text/plain": [
       "(Chain((RNNRELU(input=26,hidden=80,bidirectional), DenseRelu(P(Array{Float32,2}(40,160)), P(Array{Float32,1}(40)), NNlib.relu), Dense(P(Array{Float32,2}(2,40)), P(Array{Float32,1}(2)), identity))), Float32[1.0988865 0.7251009 … 0.52871746 0.53654826; 0.49791667 0.47847223 … 0.25694445 0.24861111])"
      ]
     },
     "execution_count": 1130,
     "metadata": {},
     "output_type": "execute_result"
    }
   ],
   "source": [
    "Knet.@load \"BIGEMREC.jld2\"\n",
    "TEM,REM = model, results"
   ]
  },
  {
   "cell_type": "code",
   "execution_count": null,
   "metadata": {},
   "outputs": [],
   "source": []
  },
  {
   "cell_type": "code",
   "execution_count": 580,
   "metadata": {},
   "outputs": [],
   "source": [
    "using Plots; default(fmt=:png,ls=:auto,ymirror=true)"
   ]
  },
  {
   "cell_type": "code",
   "execution_count": 1129,
   "metadata": {},
   "outputs": [
    {
     "data": {
      "image/png": "[encoded data removed]"
     },
     "execution_count": 1129,
     "metadata": {},
     "output_type": "execute_result"
    }
   ],
   "source": [
    "plot([rEm[2,:]]; xlabel=\"updates\", ylabel=\"error\",\n",
    "    ylim=(0,1), yticks=0:0.1:1, labels=[\"biRNN\"])"
   ]
  },
  {
   "cell_type": "code",
   "execution_count": 1122,
   "metadata": {},
   "outputs": [
    {
     "data": {
      "image/png": "[encoded data removed]"
     },
     "execution_count": 1122,
     "metadata": {},
     "output_type": "execute_result"
    }
   ],
   "source": [
    "plot([REM[2,:]]; xlabel=\"updates\", ylabel=\"error\",\n",
    "    ylim=(0,1), yticks=0:0.1:1, labels=[\"biRNN\"])"
   ]
  },
  {
   "cell_type": "code",
   "execution_count": 1123,
   "metadata": {},
   "outputs": [
    {
     "data": {
      "text/plain": [
       "2-element Array{String,1}:\n",
       " \"calm\"\n",
       " \"happy\""
      ]
     },
     "execution_count": 1123,
     "metadata": {},
     "output_type": "execute_result"
    }
   ],
   "source": [
    "#emotions = [\"neutral\",\"happy\"]\n",
    "#s=[1,2]\n",
    "#emotions[s]\n",
    "emotions = [\"calm\",\"happy\"]"
   ]
  },
  {
   "cell_type": "code",
   "execution_count": 1124,
   "metadata": {},
   "outputs": [
    {
     "data": {
      "text/plain": [
       "tag (generic function with 1 method)"
      ]
     },
     "execution_count": 1124,
     "metadata": {},
     "output_type": "execute_result"
    }
   ],
   "source": [
    "function tag(tagger,k,L)\n",
    "    #samples = s\n",
    "    #println(samples)\n",
    "    labels = emotions[(x->x[1]).(argmax(Array(tagger(reshape(Xs[k],26,1,L))),dims=1))]\n",
    "    #vcat(samples,labels)\n",
    "    labels\n",
    "end"
   ]
  },
  {
   "cell_type": "code",
   "execution_count": 1125,
   "metadata": {},
   "outputs": [
    {
     "data": {
      "text/plain": [
       "\"368×26 Array{Float32,2}\""
      ]
     },
     "execution_count": 1125,
     "metadata": {},
     "output_type": "execute_result"
    }
   ],
   "source": [
    "summary(Xs[12])"
   ]
  },
  {
   "cell_type": "code",
   "execution_count": 1126,
   "metadata": {},
   "outputs": [
    {
     "data": {
      "image/png": "[encoded data removed]"
     },
     "execution_count": 1126,
     "metadata": {},
     "output_type": "execute_result"
    }
   ],
   "source": [
    "#plot(reshape(tag(tEm,1,352),352))\n",
    "\n",
    "plot(reshape(TEM(reshape(Xs[1],26,1,352)),352,2))\n",
    "#plot(reshape(tEm(reshape(Xs[2],26,1,719)),719,2))\n",
    "\n",
    "#plot(reshape(tEm(reshape(Xs[3],26,1,348)),348,2))\n",
    "    \n",
    "#plot(reshape(tag(tEm,1,352),352))\n",
    "\n",
    "#plot(reshape(tEm(reshape(Xs[1],26,1,352)),352,2)[:,1]/10)\n",
    "#plot(reshape(tEm(reshape(Xs[1],26,1,352)),352,2)[100:end,2])\n",
    "\n",
    "#println(mean((tEm(reshape(Xs[1],26,1,352)))[1,:]))\n",
    "#println(mean((tEm(reshape(Xs[1],26,1,352)))[2,:]))\n",
    "\n",
    "\n",
    "#println(mean((tEm(reshape(Xs[2],26,1,719)))[1,:]))\n",
    "#println(mean((tEm(reshape(Xs[2],26,1,719)))[2,:]))\n",
    "\n",
    "\n",
    "#println(mean((tEm(reshape(Xs[3],26,1,348)))[1,:]))\n",
    "#println(mean((tEm(reshape(Xs[3],26,1,348)))[2,:]))\n"
   ]
  },
  {
   "cell_type": "code",
   "execution_count": 1127,
   "metadata": {},
   "outputs": [
    {
     "data": {
      "image/png": "[encoded data removed]"
     },
     "execution_count": 1127,
     "metadata": {},
     "output_type": "execute_result"
    }
   ],
   "source": [
    "using Statistics\n",
    "#plot(reshape(tag(tEm,11,352),352))\n",
    "\n",
    "plot(reshape(TEM(reshape(Xs[11],26,1,352)),352,2))\n",
    "#plot(reshape(tEm(reshape(Xs[12],26,1,368)),368,2))\n",
    "\n",
    "#plot(reshape(tEm(reshape(Xs[11],26,1,352)),352,2)[:,2])\n",
    "\n",
    "# mean(reshape(tEm(reshape(Xs[11],26,1,352)),352,2)[1])\n",
    "\n",
    "# println(mean((tEm(reshape(Xs[11],26,1,352)))[1,:]))\n",
    "# println(mean((tEm(reshape(Xs[11],26,1,352)))[2,:]))\n",
    "\n",
    "# println(mean((tEm(reshape(Xs[12],26,1,368)))[1,:]))\n",
    "# println(mean((tEm(reshape(Xs[12],26,1,368)))[2,:]))"
   ]
  },
  {
   "cell_type": "code",
   "execution_count": 1128,
   "metadata": {},
   "outputs": [
    {
     "name": "stdout",
     "output_type": "stream",
     "text": [
      "0.4715909090909091\n",
      "0.4715909090909091\n",
      "0.47282608695652173\n"
     ]
    }
   ],
   "source": [
    "println(count(i->(i==\"happy\"),tag(TEM,1,352))/352 )\n",
    "#println(count(i->(i==\"happy\"),tag(TEM,2,332))/332 )\n",
    "println(count(i->(i==\"happy\"),tag(TEM,11,352))/352 )\n",
    "println(count(i->(i==\"happy\"),tag(TEM,12,368))/368 )\n",
    "\n"
   ]
  },
  {
   "cell_type": "code",
   "execution_count": 1028,
   "metadata": {},
   "outputs": [
    {
     "ename": "DimensionMismatch",
     "evalue": "DimensionMismatch(\"new dimensions (26, 1, 328) must be consistent with array size 9152\")",
     "output_type": "error",
     "traceback": [
      "DimensionMismatch(\"new dimensions (26, 1, 328) must be consistent with array size 9152\")",
      "",
      "Stacktrace:",
      " [1] (::Base.var\"#throw_dmrsa#196\")(::Tuple{Int64,Int64,Int64}, ::Int64) at ./reshapedarray.jl:41",
      " [2] reshape(::Array{Float32,2}, ::Tuple{Int64,Int64,Int64}) at ./reshapedarray.jl:45",
      " [3] reshape(::Array{Float32,2}, ::Int64, ::Int64, ::Vararg{Int64,N} where N) at ./reshapedarray.jl:116",
      " [4] top-level scope at In[1028]:1"
     ]
    }
   ],
   "source": [
    "println(summary(reshape(Xs[1],26,1,328)))\n",
    "tEm( reshape(Xs[1],26,1,328) ) \n",
    "\n"
   ]
  },
  {
   "cell_type": "code",
   "execution_count": 33,
   "metadata": {},
   "outputs": [
    {
     "data": {
      "text/plain": [
       "26×1×328 Array{Float32,3}:\n",
       "[:, :, 1] =\n",
       " -158.44759\n",
       " -504.6143\n",
       " -167.6936\n",
       " -136.85472\n",
       " -145.15147\n",
       " -125.939644\n",
       " -144.97498\n",
       " -128.19456\n",
       " -123.62134\n",
       " -128.04933\n",
       " -121.64569\n",
       " -131.79652\n",
       " -144.95607\n",
       " -132.5605\n",
       " -131.79839\n",
       " -120.24388\n",
       " -114.45146\n",
       " -132.20493\n",
       " -146.28842\n",
       " -133.9444\n",
       " -121.4317\n",
       " -122.54968\n",
       " -135.39066\n",
       " -120.81583\n",
       " -125.24479\n",
       " -148.99736\n",
       "\n",
       "[:, :, 2] =\n",
       " -152.01717\n",
       " -129.17183\n",
       " -128.77753\n",
       " -123.08497\n",
       " -118.05649\n",
       " -129.42528\n",
       " -144.80547\n",
       " -158.45955\n",
       " -133.35197\n",
       " -138.40515\n",
       " -127.94004\n",
       " -129.50296\n",
       " -163.9895\n",
       " -133.83154\n",
       " -147.7202\n",
       " -155.95316\n",
       " -131.39186\n",
       " -139.14969\n",
       " -504.6143\n",
       " -136.34299\n",
       " -141.58849\n",
       " -134.33522\n",
       " -150.74562\n",
       " -504.6143\n",
       " -144.35312\n",
       " -137.95537\n",
       "\n",
       "[:, :, 3] =\n",
       " -135.96745\n",
       " -135.85068\n",
       " -134.13023\n",
       " -138.34065\n",
       " -141.93942\n",
       " -122.505226\n",
       " -124.69218\n",
       " -135.82951\n",
       " -138.99739\n",
       " -504.6143\n",
       " -140.20514\n",
       " -132.4192\n",
       " -138.37752\n",
       " -136.61874\n",
       " -167.43106\n",
       " -126.84669\n",
       " -114.310646\n",
       " -131.92824\n",
       " -129.47511\n",
       " -128.79141\n",
       " -123.33966\n",
       " -109.99274\n",
       " -109.62951\n",
       " -107.56798\n",
       " -105.977325\n",
       " -112.71718\n",
       "\n",
       "...\n",
       "\n",
       "[:, :, 326] =\n",
       "  0.7339962\n",
       " -1.9848666\n",
       " -1.3742521\n",
       " -0.60061365\n",
       "  1.3857676\n",
       " -0.16916655\n",
       " -1.7824131\n",
       "  0.7564377\n",
       "  2.997078\n",
       "  2.642488\n",
       "  0.09083113\n",
       " -2.8384686\n",
       " -0.33736816\n",
       " -1.1352878\n",
       " -1.0741086\n",
       "  1.6863685\n",
       " -1.1944406\n",
       "  0.67579377\n",
       "  1.7552041\n",
       " -0.8293046\n",
       "  1.1366284\n",
       "  0.059378874\n",
       " -5.2142115\n",
       " -0.6771923\n",
       "  3.1849155\n",
       " -0.24889569\n",
       "\n",
       "[:, :, 327] =\n",
       " -2.0754547\n",
       "  2.3029435\n",
       "  3.5611916\n",
       " -0.056710064\n",
       " -1.2790362\n",
       " -1.8142053\n",
       "  2.4836671\n",
       "  2.7215927\n",
       " -3.1113784\n",
       " -1.7589687\n",
       " -0.53895885\n",
       "  0.16725673\n",
       "  0.4263791\n",
       "  0.13568652\n",
       "  1.3870782\n",
       "  0.19597428\n",
       " -2.0740695\n",
       " -0.97173333\n",
       "  0.86117554\n",
       "  3.2659135\n",
       "  3.1587477\n",
       " -4.069334\n",
       " -1.310712\n",
       "  2.4273438\n",
       " -0.4762212\n",
       " -0.41184056\n",
       "\n",
       "[:, :, 328] =\n",
       "  2.1618426\n",
       " -0.73056716\n",
       " -0.6558242\n",
       "  0.7991161\n",
       " -1.1588255\n",
       "  0.39780518\n",
       "  1.1533339\n",
       " -2.2365828\n",
       " -2.5823913\n",
       "  2.2891471\n",
       "  0.4180058\n",
       " -1.2510034\n",
       "  3.6278741\n",
       " -0.13251485\n",
       " -4.5577154\n",
       "  0.73826575\n",
       "  0.60106754\n",
       " -1.8751875\n",
       " -1.3248892\n",
       "  0.9157299\n",
       "  1.7807138\n",
       " -0.99196446\n",
       " -2.4718218\n",
       "  0.520739\n",
       "  1.052852\n",
       " -0.67866457"
      ]
     },
     "execution_count": 33,
     "metadata": {},
     "output_type": "execute_result"
    }
   ],
   "source": [
    "reshape(Xs[1],26,1,328)"
   ]
  },
  {
   "cell_type": "code",
   "execution_count": 1022,
   "metadata": {},
   "outputs": [
    {
     "data": {
      "text/plain": [
       "test (generic function with 1 method)"
      ]
     },
     "execution_count": 1022,
     "metadata": {},
     "output_type": "execute_result"
    }
   ],
   "source": [
    "FRAME_LENGTH = 0.025 # ms\n",
    "FRAME_INTERVAL = 0.010 # ms\n",
    "\n",
    "export detect\n",
    "\n",
    "\n",
    "function preprocess(wavFile)\n",
    "    samps, sr = load(wavFile)\n",
    "    samps = vec(samps)\n",
    "    \n",
    "    #.+ eps to avoid Inf's and NaN's\n",
    "    samps.+=eps()\n",
    "\n",
    "    #26 FEATURES\n",
    "    #Kind of handles resampling! Consider lowering quality of training data if accuracy is too off\n",
    "    mfccs, _, _ = mfcc(samps, sr, :rasta; wintime=FRAME_LENGTH, steptime=FRAME_INTERVAL)\n",
    "    mfccDeltas = deltas(mfccs, 2)\n",
    "    features = hcat(mfccs, mfccDeltas)\n",
    "    \n",
    "    toReturn = Float32.(features)\n",
    "    return toReturn\n",
    "end\n",
    "\n",
    "\n",
    "function tag(M,features,S)\n",
    "\temotions = [\"neutral\",\"happy\"]\n",
    "    #labels = emotions[(x->x[1]).(argmax(Array(model(reshape(SAMPLES,features,1,L))),dims=1))]\n",
    "    labels = emotions[(x->x[1]).(argmax(Array(M(S)),dims=1))]\n",
    "    return labels\n",
    "end\n",
    "\n",
    "function detect(fileLoc)\n",
    "\n",
    "\tSAMPLES = (preprocess(fileLoc))\n",
    "\t#LOAD MODEL\n",
    "\t#model = Knet.load(\"EmRec256.jld2\",\"model\")\n",
    "\t#println(size(SAMPLES))\n",
    "    L = size(SAMPLES)[1]\n",
    "\n",
    "\t#KNET LOAD BROKEN REPORT THIS!\n",
    "\t#Knet.@load \"EmRec256.jld2\"\n",
    "\tprintln(model)\n",
    "\n",
    "\t#model = deserialize(\"EmRec160\")\n",
    "\n",
    "    #println(summary(reshape(SAMPLES,26,1,598)))\n",
    "\n",
    "    #(model(reshape(SAMPLES,26,1,598)))\n",
    "\t#reshape(Xs[1],26,1,328)\n",
    "\n",
    "\t#TAG\n",
    "    return(reshape(TEM(reshape(SAMPLES,26,1,L)),L,2))\n",
    "\t#tag(model, 26, reshape(SAMPLES,26,1,L))\n",
    "\t#COUNT TAG\n",
    "end\n",
    "\n",
    "\n",
    "function test(fileLoc)\n",
    "\treturn(detect(fileLoc))\n",
    "end"
   ]
  },
  {
   "cell_type": "code",
   "execution_count": 1023,
   "metadata": {},
   "outputs": [],
   "source": [
    "using FileIO: load, save, loadstreaming, savestreaming\n",
    "using MFCC"
   ]
  },
  {
   "cell_type": "code",
   "execution_count": 1103,
   "metadata": {},
   "outputs": [
    {
     "name": "stdout",
     "output_type": "stream",
     "text": [
      "Chain((RNNRELU(input=26,hidden=80,bidirectional), DenseRelu(P(Array{Float32,2}(40,160)), P(Array{Float32,1}(40)), NNlib.relu), Dense(P(Array{Float32,2}(2,40)), P(Array{Float32,1}(2)), identity)))\n"
     ]
    },
    {
     "data": {
      "text/plain": [
       "598×2 Array{Float32,2}:\n",
       " -4.79707     1.51966\n",
       " -8.54747     1.1753\n",
       " -3.25727     0.88721\n",
       " -4.01658     0.685984\n",
       " -4.53125     0.791283\n",
       " -2.98426     0.953729\n",
       "  1.88468     0.165912\n",
       "  1.44419     0.220885\n",
       "  5.76785     0.92611\n",
       "  4.00337     1.03329\n",
       " 10.8102      0.407864\n",
       " 13.385       0.491978\n",
       " 17.6819      1.9528\n",
       "  ⋮          \n",
       " -2.67823    -1.44216\n",
       " -2.4606     -2.76951\n",
       " -1.14645     0.00574248\n",
       " -1.39487    -0.00574259\n",
       " -0.314611    5.72257\n",
       "  0.0745016   8.15088\n",
       " -0.348456   -1.52283\n",
       " -0.238272   -2.92349\n",
       " -0.353659   -0.439765\n",
       " -0.440413   -0.538032\n",
       "  0.446442    6.41985\n",
       "  0.641658    8.78757"
      ]
     },
     "execution_count": 1103,
     "metadata": {},
     "output_type": "execute_result"
    }
   ],
   "source": [
    "k=(test(\"etsworking.wav\"))"
   ]
  },
  {
   "cell_type": "code",
   "execution_count": 1110,
   "metadata": {},
   "outputs": [
    {
     "data": {
      "image/png": "[encoded data removed]"
     },
     "execution_count": 1110,
     "metadata": {},
     "output_type": "execute_result"
    }
   ],
   "source": [
    "plot(k[151:200,2])"
   ]
  },
  {
   "cell_type": "code",
   "execution_count": null,
   "metadata": {},
   "outputs": [],
   "source": [
    "#Key to happiness\n",
    "#Take a frame of size "
   ]
  },
  {
   "cell_type": "code",
   "execution_count": null,
   "metadata": {},
   "outputs": [],
   "source": []
  }
 ],
 "metadata": {
  "kernelspec": {
   "display_name": "Julia 1.4.0",
   "language": "julia",
   "name": "julia-1.4"
  },
  "language_info": {
   "file_extension": ".jl",
   "mimetype": "application/julia",
   "name": "julia",
   "version": "1.4.0"
  },
  "latex_envs": {
   "LaTeX_envs_menu_present": true,
   "autoclose": false,
   "autocomplete": true,
   "bibliofile": "biblio.bib",
   "cite_by": "apalike",
   "current_citInitial": 1,
   "eqLabelWithNumbers": true,
   "eqNumInitial": 1,
   "hotkeys": {
    "equation": "Ctrl-E",
    "itemize": "Ctrl-I"
   },
   "labels_anchors": false,
   "latex_user_defs": false,
   "report_style_numbering": false,
   "user_envs_cfg": false
  }
 },
 "nbformat": 4,
 "nbformat_minor": 2
}
