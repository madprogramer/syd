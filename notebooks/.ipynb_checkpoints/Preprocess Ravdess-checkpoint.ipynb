{
 "cells": [
  {
   "cell_type": "code",
   "execution_count": 1,
   "metadata": {},
   "outputs": [],
   "source": [
    "#Inspired by https://github.com/maetshju/gsoc2018"
   ]
  },
  {
   "cell_type": "code",
   "execution_count": 18,
   "metadata": {},
   "outputs": [],
   "source": [
    "using Knet: param, param0\n",
    "using DSP\n",
    "\n",
    "using FileIO: load, save, loadstreaming, savestreaming\n",
    "import LibSndFile\n",
    "\n",
    "using MFCC\n",
    "using Plots\n",
    "using BSON"
   ]
  },
  {
   "cell_type": "code",
   "execution_count": 19,
   "metadata": {},
   "outputs": [
    {
     "data": {
      "text/plain": [
       "0.01"
      ]
     },
     "execution_count": 19,
     "metadata": {},
     "output_type": "execute_result"
    }
   ],
   "source": [
    "#print(pwd()*\"/Datasets/ravdess-emotional-speech-audio/audio_speech_actors_01-24/Actor_01/03-01-01-01-01-01-01.wav\")\n",
    "\n",
    "FRAME_LENGTH = 0.025 # ms\n",
    "FRAME_INTERVAL = 0.010 # ms"
   ]
  },
  {
   "cell_type": "code",
   "execution_count": null,
   "metadata": {},
   "outputs": [],
   "source": []
  },
  {
   "cell_type": "code",
   "execution_count": 74,
   "metadata": {},
   "outputs": [
    {
     "data": {
      "text/plain": [
       "getFeatures"
      ]
     },
     "execution_count": 74,
     "metadata": {},
     "output_type": "execute_result"
    }
   ],
   "source": [
    "#Step 2 \n",
    "\"\"\"\n",
    "    getFeatures( wavName )\n",
    "Extracts Mel filterbanks and associated labels from `wavName`, fortunately ravdess incorporates labels into the filename\n",
    "\"\"\"\n",
    "function getFeatures( wavName )\n",
    "    \n",
    "    samps, sr = load(wavName)\n",
    "    samps = vec(samps)\n",
    "    \n",
    "    #.+ eps to avoid Inf's and NaN's\n",
    "    samps.+=eps()\n",
    "\n",
    "    #Kind of handles resampling! Consider lowering quality of training data if accuracy is too off\n",
    "    mfccs, _, _ = mfcc(samps, sr, :rasta; wintime=FRAME_LENGTH, steptime=FRAME_INTERVAL)\n",
    "    \n",
    "    #Directories might be missing on Repo\n",
    "    #GET 06!!!\n",
    "    #emotion = 03-01-06-01-02-01-12.wav\n",
    "    emotion = parse(Float64,(wavName[82:83]))\n",
    "    \n",
    "    #plot(mfccs)\n",
    "    #print(mfccs)\n",
    "    \n",
    "    #use this if you want to use deltas as additional features\n",
    "    #use this if you're not going to use a Recurrent Network\n",
    "    #mfccDeltas = deltas(mfccs, 2)\n",
    "    #features = hcat(mfccs, mfccDeltas)\n",
    "    \n",
    "    #We're using a Recurrent Network\n",
    "    features = mfccs\n",
    "    #print()\n",
    "    \n",
    "    #print(features[1])\n",
    "    \n",
    "    \n",
    "    labels = fill( emotion, size(features)[1] )\n",
    "    \n",
    "    \n",
    "    toReturn = (features, labels)\n",
    "    return toReturn\n",
    "end\n",
    "\n",
    "#typeof(getFeatures(\"Datasets/ravdess-emotional-speech-audio/audio_speech_actors_01-24/Actor_01/03-01-01-01-01-01-01.wav\"))"
   ]
  },
  {
   "cell_type": "code",
   "execution_count": 75,
   "metadata": {},
   "outputs": [
    {
     "data": {
      "text/plain": [
       "createData"
      ]
     },
     "execution_count": 75,
     "metadata": {},
     "output_type": "execute_result"
    }
   ],
   "source": [
    "\"\"\"\n",
    "    createData(data_dir, out_dir)\n",
    "Extracts data from files in `data_dir` and saves results in `out_dir`.\n",
    "\"\"\"\n",
    "function createData(data_dir, out_dir)\n",
    "    for (root, dirs, files) in walkdir(data_dir)\n",
    "        #println(files)\n",
    "        \n",
    "        wavFiles = [x for x in files if occursin(\"wav\",x)]\n",
    "        \n",
    "        one_dir_up = basename(root)\n",
    "        #println(wavFiles)\n",
    "                    \n",
    "        for wavFile in wavFiles\n",
    "            wavPath = joinpath(root, wavFile)\n",
    "            #println(wavPath)\n",
    "            #return\n",
    "            x, y = getFeatures(wavPath)\n",
    "            classes = [n for n in 1:8]\n",
    "            #print(classes)\n",
    "                        \n",
    "            #FOR FLUX\n",
    "            #y = onehotbatch(y, classes)'\n",
    "            #no onehot encoding this time\n",
    "            #y = \n",
    "            \n",
    "            #FOR KNET\n",
    "                        \n",
    "            #Keep as is\n",
    "                        \n",
    "            base, _ = splitext(wavFile)\n",
    "            #print(one_dir_up * \"-\" * base * \".bson\")\n",
    "            dat_name = one_dir_up * \"-\" * base * \".bson\"\n",
    "            dat_path = joinpath(out_dir, dat_name)\n",
    "            #println(dat_path)\n",
    "            BSON.@save dat_path x y\n",
    "        end\n",
    "    end\n",
    "end"
   ]
  },
  {
   "cell_type": "code",
   "execution_count": 76,
   "metadata": {},
   "outputs": [],
   "source": [
    "createData(\"Datasets/ravdess-emotional-speech-audio\",\"Datasets/ravdess-13-features\")"
   ]
  },
  {
   "cell_type": "code",
   "execution_count": 23,
   "metadata": {},
   "outputs": [],
   "source": [
    "#createData(TRAINING_DATA_DIR, TRAINING_OUT_DIR)\n",
    "#createData(TEST_DATA_DIR, TEST_OUT_DIR)"
   ]
  },
  {
   "cell_type": "code",
   "execution_count": 70,
   "metadata": {},
   "outputs": [
    {
     "data": {
      "text/plain": [
       "([-123.3377036064561 -14.283190361563754 … 2.270259954945543 0.5879324216616246; -126.78975989138264 -15.720915740260029 … 7.330295264829852 8.77373639822057; … ; -98.92755835782002 -8.750212252172343 … -1.7435227135534175 -3.453010991874401; -100.6032071277711 -9.266533732604977 … -1.7621972817850289 -2.4906290943602003], [6.0, 6.0, 6.0, 6.0, 6.0, 6.0, 6.0, 6.0, 6.0, 6.0  …  6.0, 6.0, 6.0, 6.0, 6.0, 6.0, 6.0, 6.0, 6.0, 6.0])"
      ]
     },
     "execution_count": 70,
     "metadata": {},
     "output_type": "execute_result"
    }
   ],
   "source": [
    "T = getFeatures(\"Datasets/ravdess-emotional-speech-audio/audio_speech_actors_01-24/Actor_12/03-01-06-01-02-01-12.wav\")"
   ]
  },
  {
   "cell_type": "code",
   "execution_count": null,
   "metadata": {},
   "outputs": [],
   "source": []
  },
  {
   "cell_type": "code",
   "execution_count": null,
   "metadata": {},
   "outputs": [],
   "source": []
  },
  {
   "cell_type": "code",
   "execution_count": null,
   "metadata": {},
   "outputs": [],
   "source": []
  }
 ],
 "metadata": {
  "kernelspec": {
   "display_name": "Julia 1.4.0",
   "language": "julia",
   "name": "julia-1.4"
  },
  "language_info": {
   "file_extension": ".jl",
   "mimetype": "application/julia",
   "name": "julia",
   "version": "1.4.0"
  },
  "latex_envs": {
   "LaTeX_envs_menu_present": true,
   "autoclose": false,
   "autocomplete": true,
   "bibliofile": "biblio.bib",
   "cite_by": "apalike",
   "current_citInitial": 1,
   "eqLabelWithNumbers": true,
   "eqNumInitial": 1,
   "hotkeys": {
    "equation": "Ctrl-E",
    "itemize": "Ctrl-I"
   },
   "labels_anchors": false,
   "latex_user_defs": false,
   "report_style_numbering": false,
   "user_envs_cfg": false
  }
 },
 "nbformat": 4,
 "nbformat_minor": 2
}
