{
 "cells": [
  {
   "cell_type": "code",
   "execution_count": 144,
   "metadata": {},
   "outputs": [],
   "source": [
    "#Bidirectional LSTM\n",
    "#DENSE OUTPUT LAYER\n",
    "\n",
    "#Based on https://github.com/maetshju/gsoc2018/blob/master/speech-blstm/01-speech-blstm.jl\n",
    "#and https://github.com/denizyuret/Knet.jl/blob/master/tutorial/60.rnn.ipynb"
   ]
  },
  {
   "cell_type": "code",
   "execution_count": 145,
   "metadata": {},
   "outputs": [],
   "source": [
    "#Input Features = 13\n",
    "\n",
    "#Emotions to train on\n",
    "#01 (Neutral) and 03 (Happy)"
   ]
  },
  {
   "cell_type": "code",
   "execution_count": 146,
   "metadata": {},
   "outputs": [
    {
     "name": "stderr",
     "output_type": "stream",
     "text": [
      "┌ Warning: Pkg.installed() is deprecated\n",
      "└ @ Pkg /Users/julia/buildbot/worker/package_macos64/build/usr/share/julia/stdlib/v1.4/Pkg/src/Pkg.jl:531\n",
      "┌ Warning: Pkg.installed() is deprecated\n",
      "└ @ Pkg /Users/julia/buildbot/worker/package_macos64/build/usr/share/julia/stdlib/v1.4/Pkg/src/Pkg.jl:531\n",
      "┌ Warning: Pkg.installed() is deprecated\n",
      "└ @ Pkg /Users/julia/buildbot/worker/package_macos64/build/usr/share/julia/stdlib/v1.4/Pkg/src/Pkg.jl:531\n"
     ]
    }
   ],
   "source": [
    "using BSON\n",
    "\n",
    "\n",
    "ENV[\"COLUMNS\"] = 72\n",
    "using Pkg; for p in (\"Knet\",\"IterTools\",\"Plots\"); haskey(Pkg.installed(),p) || Pkg.add(p); end\n",
    "using Random: shuffle!\n",
    "using Base.Iterators: flatten\n",
    "using IterTools: ncycle, takenth\n",
    "using Knet: Knet, AutoGrad, param, param0, mat, RNN, relu, Data, adam, progress, nll, zeroone"
   ]
  },
  {
   "cell_type": "code",
   "execution_count": 147,
   "metadata": {},
   "outputs": [],
   "source": [
    "# Let's define a chain of layers\n",
    "struct Chain\n",
    "    layers\n",
    "    Chain(layers...) = new(layers)\n",
    "end\n",
    "(c::Chain)(x) = (for l in c.layers; x = l(x); end; x)\n",
    "(c::Chain)(x,y) = nll(c(x),y)\n"
   ]
  },
  {
   "cell_type": "code",
   "execution_count": 148,
   "metadata": {},
   "outputs": [],
   "source": [
    "# Redefine dense layer (See mlp.ipynb):\n",
    "struct Dense; w; b; f; end\n",
    "Dense(i::Int,o::Int,f=identity) = Dense(param(o,i), param0(o), f)\n",
    "(d::Dense)(x) = d.f.(d.w * mat(x,dims=1) .+ d.b)"
   ]
  },
  {
   "cell_type": "code",
   "execution_count": 149,
   "metadata": {},
   "outputs": [
    {
     "data": {
      "text/plain": [
       "include_1_3 (generic function with 1 method)"
      ]
     },
     "execution_count": 149,
     "metadata": {},
     "output_type": "execute_result"
    }
   ],
   "source": [
    "#Rule\n",
    "include_1_3(x) = occursin(r\"03-01-(?:01|03)-0[1-2]-0[1-2]-0[1-2]-[0-9][0-9].bson\",x)"
   ]
  },
  {
   "cell_type": "code",
   "execution_count": 68,
   "metadata": {},
   "outputs": [
    {
     "data": {
      "text/plain": [
       "encode_1_3 (generic function with 1 method)"
      ]
     },
     "execution_count": 68,
     "metadata": {},
     "output_type": "execute_result"
    }
   ],
   "source": [
    "#Relabling rule\n",
    "function encode_1_3(Y)\n",
    "\n",
    "ARRAY = Array{Float32}\n",
    "Ÿ = ARRAY(mat(Y))\n",
    "    \n",
    "m=ARRAY(zeros(2,length(y)));\n",
    "    \n",
    "    for i in 1:length(Ÿ)\n",
    "        m[ (Ÿ[i]==1 ? 1 : 3) ,i]=1; \n",
    "    end\n",
    "    \n",
    "return m\n",
    "\n",
    "end"
   ]
  },
  {
   "cell_type": "code",
   "execution_count": 150,
   "metadata": {},
   "outputs": [
    {
     "data": {
      "text/plain": [
       "readData (generic function with 1 method)"
      ]
     },
     "execution_count": 150,
     "metadata": {},
     "output_type": "execute_result"
    }
   ],
   "source": [
    "\"\"\"\n",
    "    readData(dataDir)\n",
    "Reads in the data contained in a specified directory\n",
    "    \n",
    "# Parameters\n",
    "* **dataDir** String of the path to the directory containing the data\n",
    "#LOAD BSON\n",
    "\n",
    "# Return\n",
    "* **Xs** Vector where each element is a vector of the frames for\n",
    "one utterance\n",
    "* **Ys** A vector where each element is a vector of the labels for\n",
    "the frames for one utterance\n",
    "\"\"\"\n",
    "\n",
    "function readData(dataDir, rule)\n",
    "    fnames = readdir(dataDir)\n",
    "\n",
    "    Xs = Vector()\n",
    "    Ys = Vector()\n",
    "    \n",
    "    for (i, fname) in enumerate(fnames)\n",
    "        print(string(i) * \"/\" * string(length(fnames)) * \"\\r\")\n",
    "        #print(fname)\n",
    "        if rule(fname) \n",
    "            BSON.@load joinpath(dataDir, fname) x y\n",
    "            x = [x[i,:] for i in 1:size(x,1)]\n",
    "            y = [y[i,:] for i in 1:size(y,1)]\n",
    "            push!(Xs, x)\n",
    "            push!(Ys, y)\n",
    "        end\n",
    "    end\n",
    "    \n",
    "    return (Xs, Ys)\n",
    "end\n"
   ]
  },
  {
   "cell_type": "code",
   "execution_count": 151,
   "metadata": {},
   "outputs": [
    {
     "name": "stdout",
     "output_type": "stream",
     "text": [
      "1441/1441\r"
     ]
    }
   ],
   "source": [
    "(Xs, Ys) =  readData(\"Datasets/ravdess-13-features\", include_1_3);"
   ]
  },
  {
   "cell_type": "code",
   "execution_count": 206,
   "metadata": {},
   "outputs": [
    {
     "data": {
      "text/plain": [
       "3"
      ]
     },
     "execution_count": 206,
     "metadata": {},
     "output_type": "execute_result"
    }
   ],
   "source": [
    "HIDDENSIZE = 64\n",
    "OUTPUTSIZE = 3"
   ]
  },
  {
   "cell_type": "code",
   "execution_count": 186,
   "metadata": {},
   "outputs": [
    {
     "data": {
      "text/plain": [
       "seqbatch (generic function with 1 method)"
      ]
     },
     "execution_count": 186,
     "metadata": {},
     "output_type": "execute_result"
    }
   ],
   "source": [
    "BATCHSIZE = 2\n",
    "SEQLENGTH = 1;\n",
    "\n",
    "function seqbatch(x,y,B,T)\n",
    "    N = length(x) ÷ B\n",
    "    #println(N)\n",
    "    x = permutedims(reshape(x[1:N*B],N,B))\n",
    "    #println(x)\n",
    "    y = permutedims(reshape(y[1:N*B],N,B))\n",
    "    #println(y)\n",
    "    \n",
    "    d = []; for i in 0:T:N-T\n",
    "        push!(d, (x[:,i+1:i+T], y[:,i+1:i+T]))\n",
    "    end\n",
    "    return d\n",
    "end\n",
    "\n"
   ]
  },
  {
   "cell_type": "code",
   "execution_count": 187,
   "metadata": {},
   "outputs": [],
   "source": [
    "d = seqbatch(Xs, Ys, BATCHSIZE, SEQLENGTH);"
   ]
  },
  {
   "cell_type": "code",
   "execution_count": 190,
   "metadata": {},
   "outputs": [
    {
     "data": {
      "text/plain": [
       "(134, 10)"
      ]
     },
     "execution_count": 190,
     "metadata": {},
     "output_type": "execute_result"
    }
   ],
   "source": [
    "# shuffle and split minibatches into train and test portions\n",
    "shuffle!(d)\n",
    "dtst = d[1:10]\n",
    "dtrn = d[11:end]\n",
    "length.((dtrn,dtst))"
   ]
  },
  {
   "cell_type": "code",
   "execution_count": null,
   "metadata": {},
   "outputs": [],
   "source": []
  },
  {
   "cell_type": "code",
   "execution_count": 207,
   "metadata": {},
   "outputs": [
    {
     "data": {
      "text/plain": [
       "trainresults (generic function with 1 method)"
      ]
     },
     "execution_count": 207,
     "metadata": {},
     "output_type": "execute_result"
    }
   ],
   "source": [
    "function trainresults(file,maker,savemodel)\n",
    "    if (print(\"Train from scratch? \"); readline()[1]=='y')\n",
    "        model = maker()\n",
    "        results = ((nll(model,dtst), zeroone(model,dtst))\n",
    "                   for x in takenth(progress(adam(model,ncycle(dtrn,5))),100))\n",
    "        results = reshape(collect(Float32,flatten(results)),(2,:))\n",
    "        Knet.save(file,\"model\",(savemodel ? model : nothing),\"results\",results)\n",
    "        Knet.gc() # To save gpu memory\n",
    "    else\n",
    "        isfile(file) || download(\"http://people.csail.mit.edu/deniz/models/tutorial/$file\",file)\n",
    "        model,results = Knet.load(file,\"model\",\"results\")\n",
    "    end\n",
    "    println(minimum(results,dims=2))\n",
    "    return model,results\n",
    "end"
   ]
  },
  {
   "cell_type": "code",
   "execution_count": 208,
   "metadata": {},
   "outputs": [],
   "source": [
    "BIRNN(input,hidden,output)=  # biRNN Tagger\n",
    "Chain(RNN(input,hidden,rnnType=:relu,bidirectional=true),Dense(2hidden,output));"
   ]
  },
  {
   "cell_type": "code",
   "execution_count": 211,
   "metadata": {},
   "outputs": [
    {
     "name": "stdout",
     "output_type": "stream",
     "text": [
      "Train from scratch? stdin> y\n",
      "\n",
      "Stacktrace:\n",
      " [1] \u001b[1m(::RNN)\u001b[22m\u001b[1m(\u001b[22m::Array{Any,2}; batchSizes::Nothing\u001b[1m)\u001b[22m at \u001b[1m/Users/ahmetakkoc/.julia/packages/Knet/bTNMd/src/rnn.jl:192\u001b[22m\n",
      " [2] \u001b[1m(::RNN)\u001b[22m\u001b[1m(\u001b[22m::Array{Any,2}\u001b[1m)\u001b[22m at \u001b[1m/Users/ahmetakkoc/.julia/packages/Knet/bTNMd/src/rnn.jl:190\u001b[22m\n",
      " [3] \u001b[1m(::Chain)\u001b[22m\u001b[1m(\u001b[22m::Array{Any,2}\u001b[1m)\u001b[22m at \u001b[1m./In[147]:6\u001b[22m\n",
      " [4] \u001b[1m(::Chain)\u001b[22m\u001b[1m(\u001b[22m::Array{Any,2}, ::Array{Any,2}\u001b[1m)\u001b[22m at \u001b[1m./In[147]:7\u001b[22m\n",
      " [5] \u001b[1m(::Knet.var\"#693#694\"{Knet.Minimize{IterTools.NCycle{Array{Any,1}}},Tuple{Array{Any,2},Array{Any,2}}})\u001b[22m\u001b[1m(\u001b[22m\u001b[1m)\u001b[22m at \u001b[1m/Users/ahmetakkoc/.julia/packages/AutoGrad/FSgUc/src/core.jl:205\u001b[22m\n",
      " [6] \u001b[1mdifferentiate\u001b[22m\u001b[1m(\u001b[22m::Function; o::Base.Iterators.Pairs{Union{},Union{},Tuple{},NamedTuple{(),Tuple{}}}\u001b[1m)\u001b[22m at \u001b[1m/Users/ahmetakkoc/.julia/packages/AutoGrad/FSgUc/src/core.jl:144\u001b[22m\n",
      " [7] \u001b[1mdifferentiate\u001b[22m at \u001b[1m/Users/ahmetakkoc/.julia/packages/AutoGrad/FSgUc/src/core.jl:135\u001b[22m [inlined]\n",
      " [8] \u001b[1miterate\u001b[22m at \u001b[1m/Users/ahmetakkoc/.julia/packages/Knet/bTNMd/src/train.jl:23\u001b[22m [inlined]\n",
      " [9] \u001b[1miterate\u001b[22m\u001b[1m(\u001b[22m::Knet.Progress{Knet.Minimize{IterTools.NCycle{Array{Any,1}}}}\u001b[1m)\u001b[22m at \u001b[1m/Users/ahmetakkoc/.julia/packages/Knet/bTNMd/src/progress.jl:69\u001b[22m\n",
      " [10] \u001b[1miterate\u001b[22m at \u001b[1m/Users/ahmetakkoc/.julia/packages/IterTools/0dYLc/src/IterTools.jl:82\u001b[22m [inlined]\n",
      " [11] \u001b[1miterate\u001b[22m at \u001b[1m./generator.jl:44\u001b[22m [inlined]\n",
      " [12] \u001b[1miterate\u001b[22m at \u001b[1m./iterators.jl:1056\u001b[22m [inlined]\n",
      " [13] \u001b[1miterate\u001b[22m at \u001b[1m./iterators.jl:1052\u001b[22m [inlined]\n",
      " [14] \u001b[1m_collect\u001b[22m\u001b[1m(\u001b[22m::Type{Float32}, ::Base.Iterators.Flatten{Base.Generator{IterTools.TakeNth{Knet.Progress{Knet.Minimize{IterTools.NCycle{Array{Any,1}}}}},var\"#69#70\"}}, ::Base.SizeUnknown\u001b[1m)\u001b[22m at \u001b[1m./array.jl:568\u001b[22m\n",
      " [15] \u001b[1mcollect\u001b[22m\u001b[1m(\u001b[22m::Type{Float32}, ::Base.Iterators.Flatten{Base.Generator{IterTools.TakeNth{Knet.Progress{Knet.Minimize{IterTools.NCycle{Array{Any,1}}}}},var\"#69#70\"}}\u001b[1m)\u001b[22m at \u001b[1m./array.jl:562\u001b[22m\n",
      " [16] \u001b[1mtrainresults\u001b[22m\u001b[1m(\u001b[22m::String, ::typeof(EMREC), ::Bool\u001b[1m)\u001b[22m at \u001b[1m./In[207]:6\u001b[22m\n",
      " [17] top-level scope at \u001b[1mIn[211]:2\u001b[22m\n",
      " [18] \u001b[1meval\u001b[22m at \u001b[1m./boot.jl:331\u001b[22m [inlined]\n",
      " [19] \u001b[1msoftscope_include_string\u001b[22m\u001b[1m(\u001b[22m::Module, ::String, ::String\u001b[1m)\u001b[22m at \u001b[1m/Users/ahmetakkoc/.julia/packages/SoftGlobalScope/cSbw5/src/SoftGlobalScope.jl:218\u001b[22m\n",
      " [20] \u001b[1mexecute_request\u001b[22m\u001b[1m(\u001b[22m::ZMQ.Socket, ::IJulia.Msg\u001b[1m)\u001b[22m at \u001b[1m/Users/ahmetakkoc/.julia/packages/IJulia/DrVMH/src/execute_request.jl:67\u001b[22m\n",
      " [21] \u001b[1m#invokelatest#1\u001b[22m at \u001b[1m./essentials.jl:712\u001b[22m [inlined]\n",
      " [22] \u001b[1minvokelatest\u001b[22m at \u001b[1m./essentials.jl:711\u001b[22m [inlined]\n",
      " [23] \u001b[1meventloop\u001b[22m\u001b[1m(\u001b[22m::ZMQ.Socket\u001b[1m)\u001b[22m at \u001b[1m/Users/ahmetakkoc/.julia/packages/IJulia/DrVMH/src/eventloop.jl:8\u001b[22m\n",
      " [24] \u001b[1m(::IJulia.var\"#15#18\")\u001b[22m\u001b[1m(\u001b[22m\u001b[1m)\u001b[22m at \u001b[1m./task.jl:358\u001b[22m\n"
     ]
    },
    {
     "ename": "AssertionError",
     "evalue": "AssertionError: vec(value(x)) isa WTYPE",
     "output_type": "error",
     "traceback": [
      "AssertionError: vec(value(x)) isa WTYPE",
      "",
      "Stacktrace:",
      " [1] differentiate(::Function; o::Base.Iterators.Pairs{Union{},Union{},Tuple{},NamedTuple{(),Tuple{}}}) at /Users/ahmetakkoc/.julia/packages/AutoGrad/FSgUc/src/core.jl:148",
      " [2] differentiate at /Users/ahmetakkoc/.julia/packages/AutoGrad/FSgUc/src/core.jl:135 [inlined]",
      " [3] iterate at /Users/ahmetakkoc/.julia/packages/Knet/bTNMd/src/train.jl:23 [inlined]",
      " [4] iterate(::Knet.Progress{Knet.Minimize{IterTools.NCycle{Array{Any,1}}}}) at /Users/ahmetakkoc/.julia/packages/Knet/bTNMd/src/progress.jl:69",
      " [5] iterate at /Users/ahmetakkoc/.julia/packages/IterTools/0dYLc/src/IterTools.jl:82 [inlined]",
      " [6] iterate at ./generator.jl:44 [inlined]",
      " [7] iterate at ./iterators.jl:1056 [inlined]",
      " [8] iterate at ./iterators.jl:1052 [inlined]",
      " [9] _collect(::Type{Float32}, ::Base.Iterators.Flatten{Base.Generator{IterTools.TakeNth{Knet.Progress{Knet.Minimize{IterTools.NCycle{Array{Any,1}}}}},var\"#69#70\"}}, ::Base.SizeUnknown) at ./array.jl:568",
      " [10] collect(::Type{Float32}, ::Base.Iterators.Flatten{Base.Generator{IterTools.TakeNth{Knet.Progress{Knet.Minimize{IterTools.NCycle{Array{Any,1}}}}},var\"#69#70\"}}) at ./array.jl:562",
      " [11] trainresults(::String, ::typeof(EMREC), ::Bool) at ./In[207]:6",
      " [12] top-level scope at In[211]:2"
     ]
    }
   ],
   "source": [
    "EMREC() = BIRNN(13,HIDDENSIZE,1)\n",
    "(tEm,rEm) = trainresults(\"emrec.jld2\",EMREC,true);"
   ]
  },
  {
   "cell_type": "code",
   "execution_count": 61,
   "metadata": {},
   "outputs": [
    {
     "name": "stdout",
     "output_type": "stream",
     "text": [
      "BIRNN = BIRNN\n"
     ]
    },
    {
     "data": {
      "text/plain": [
       "BIRNN (generic function with 1 method)"
      ]
     },
     "execution_count": 61,
     "metadata": {},
     "output_type": "execute_result"
    }
   ],
   "source": [
    "@show BIRNN"
   ]
  },
  {
   "cell_type": "code",
   "execution_count": null,
   "metadata": {},
   "outputs": [],
   "source": []
  },
  {
   "cell_type": "code",
   "execution_count": null,
   "metadata": {},
   "outputs": [],
   "source": [
    "#Encode 1's as 0 and 3's 1 in one-hot"
   ]
  }
 ],
 "metadata": {
  "kernelspec": {
   "display_name": "Julia 1.4.0",
   "language": "julia",
   "name": "julia-1.4"
  },
  "language_info": {
   "file_extension": ".jl",
   "mimetype": "application/julia",
   "name": "julia",
   "version": "1.4.0"
  },
  "latex_envs": {
   "LaTeX_envs_menu_present": true,
   "autoclose": false,
   "autocomplete": true,
   "bibliofile": "biblio.bib",
   "cite_by": "apalike",
   "current_citInitial": 1,
   "eqLabelWithNumbers": true,
   "eqNumInitial": 1,
   "hotkeys": {
    "equation": "Ctrl-E",
    "itemize": "Ctrl-I"
   },
   "labels_anchors": false,
   "latex_user_defs": false,
   "report_style_numbering": false,
   "user_envs_cfg": false
  }
 },
 "nbformat": 4,
 "nbformat_minor": 2
}
