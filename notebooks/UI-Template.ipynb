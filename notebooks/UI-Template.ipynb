{
 "cells": [
  {
   "cell_type": "code",
   "execution_count": 1,
   "metadata": {},
   "outputs": [],
   "source": [
    "using Makie\n",
    "import AbstractPlotting: pixelarea"
   ]
  },
  {
   "cell_type": "code",
   "execution_count": 2,
   "metadata": {},
   "outputs": [
    {
     "data": {
      "text/plain": [
       "Dict{Any,Any} with 0 entries"
      ]
     },
     "execution_count": 2,
     "metadata": {},
     "output_type": "execute_result"
    }
   ],
   "source": [
    "DISPLAYSCENE = Scene(resolution=(900,1200))\n",
    "SCENECOMPONENTS = Dict()"
   ]
  },
  {
   "cell_type": "code",
   "execution_count": 3,
   "metadata": {
    "code_folding": []
   },
   "outputs": [],
   "source": [
    "# #Main Text\n",
    "# # area1 = map(pixelarea(DISPLAYSCENE)) do hh\n",
    "# #     pad, w, h = 30, 870, 370\n",
    "# #     FRect(Point2f0(30, 30), Point2f0(w,h))\n",
    "# # end\n",
    "\n",
    "# #Voice Tracker\n",
    "# area2 = map(pixelarea(DISPLAYSCENE)) do hh\n",
    "#     pad, w, h = 30, 870, 370\n",
    "#     FRect(Point2f0(30, 30), Point2f0(w,h))\n",
    "# end\n",
    "\n",
    "# #Excitement Tracker\n",
    "# area3 = map(pixelarea(DISPLAYSCENE)) do hh\n",
    "#     pad, w, h = 30, 870, 370\n",
    "#     FRect(Point2f0(30, h+2*pad), Point2f0(w,h))\n",
    "# end\n",
    "\n",
    "# area4 = map(pixelarea(DISPLAYSCENE)) do hh\n",
    "#     pad, w, h = 30, 870, 370\n",
    "#     FRect(Point2f0(30, 2*h+2*pad), Point2f0(w,h))\n",
    "# end\n",
    "\n",
    "# #scene1 = Scene(DISPLAYSCENE, area1)\n",
    "# scene2 = Scene(DISPLAYSCENE, area2)\n",
    "# scene3 = Scene(DISPLAYSCENE, area3)\n",
    "# scene4 = Scene(DISPLAYSCENE, area4)\n",
    "# #lines!(scene1, 1:100, rand(100),color=\"yellow\")[end]\n",
    "# lines!(scene2, 1:100, rand(100), color=\"green\")[end]\n",
    "# lines!(scene3, 1:100, rand(100), color=\"blue\")[end]\n",
    "# lines!(scene4, 1:100, rand(100), color=\"red\")[end]\n",
    "\n",
    "# SCENECOMPONENTS[\"excitement\"] = scene2\n",
    "# SCENECOMPONENTS[\"sound\"] = scene3\n",
    "# SCENECOMPONENTS[\"text\"] = scene4\n",
    "\n",
    "# DISPLAYSCENE\n",
    "\n",
    "# display(DISPLAYSCENE)"
   ]
  },
  {
   "cell_type": "code",
   "execution_count": 4,
   "metadata": {},
   "outputs": [],
   "source": [
    "# delete!(scenes[1], scenes[1][end])"
   ]
  },
  {
   "cell_type": "code",
   "execution_count": 5,
   "metadata": {},
   "outputs": [],
   "source": [
    "# print(SCENECOMPONENTS[\"text\"])"
   ]
  },
  {
   "cell_type": "code",
   "execution_count": 6,
   "metadata": {},
   "outputs": [],
   "source": [
    "# text!(SCENECOMPONENTS[\"text\"],\"SOCIETY\",textsize=8 )"
   ]
  },
  {
   "cell_type": "code",
   "execution_count": 8,
   "metadata": {},
   "outputs": [
    {
     "data": {
      "text/plain": [
       "GLMakie.Screen(...)"
      ]
     },
     "execution_count": 8,
     "metadata": {},
     "output_type": "execute_result"
    }
   ],
   "source": [
    "#Excitement Tracker\n",
    "area1 = map(pixelarea(DISPLAYSCENE)) do hh\n",
    "    pad, w, h = 30, 870, 185\n",
    "    FRect(Point2f0(30, 30), Point2f0(w,h))\n",
    "end\n",
    "\n",
    "#Voice Tracker\n",
    "area2 = map(pixelarea(DISPLAYSCENE)) do hh\n",
    "    pad, w, h = 30, 870, 185\n",
    "    FRect(Point2f0(30, h+2*pad), Point2f0(w,h))\n",
    "end\n",
    "\n",
    "#Syd is listening/thinking indicator\n",
    "area3 = map(pixelarea(DISPLAYSCENE)) do hh\n",
    "    pad, w, h = 30, 870, 185\n",
    "    FRect(Point2f0(30, 2*h+2*pad), Point2f0(w,h))\n",
    "end\n",
    "\n",
    "#Add confidence\n",
    "\n",
    "#Misc. Text\n",
    "\n",
    "#Syd is listening/thinking indicator\n",
    "area4 = map(pixelarea(DISPLAYSCENE)) do hh\n",
    "    pad, w, h = 30, 870, 185\n",
    "    FRect(Point2f0(30, 3*h+2*pad), Point2f0(w,h))\n",
    "end\n",
    "\n",
    "#Syd is listening/thinking indicator\n",
    "area5 = map(pixelarea(DISPLAYSCENE)) do hh\n",
    "    pad, w, h = 30, 870, 185\n",
    "    FRect(Point2f0(30, 4*h+2*pad), Point2f0(w,h))\n",
    "end\n",
    "\n",
    "scene1 = Scene(DISPLAYSCENE, area1)\n",
    "scene2 = Scene(DISPLAYSCENE, area2)\n",
    "scene3 = Scene(DISPLAYSCENE, area3)\n",
    "scene4 = Scene(DISPLAYSCENE, area4)\n",
    "scene5 = Scene(DISPLAYSCENE, area5)\n",
    "\n",
    "lines!(scene1, 1:100, rand(100),color=\"orange\")[end]\n",
    "lines!(scene2, 1:100, rand(100), color=\"blue\")[end]\n",
    "text!(scene3,\"Society\",textsize=8,show_axis=false )\n",
    "#lines!(scene3, 1:100, rand(100), color=\"blue\")[end]\n",
    "#lines!(scene4, 1:100, rand(100), color=\"red\")[end]\n",
    "text!(scene4,\"Ready\",textsize=8,show_axis=false )\n",
    "text!(scene5,\"syd is listening...\",textsize=8,show_axis=false )\n",
    "\n",
    "SCENECOMPONENTS[\"excitement\"] = scene1\n",
    "SCENECOMPONENTS[\"sound\"] = scene2\n",
    "SCENECOMPONENTS[\"text\"] = scene3\n",
    "SCENECOMPONENTS[\"status\"] = scene4\n",
    "SCENECOMPONENTS[\"listening\"] = scene5\n",
    "\n",
    "DISPLAYSCENE\n",
    "\n",
    "display(DISPLAYSCENE)"
   ]
  },
  {
   "cell_type": "code",
   "execution_count": null,
   "metadata": {},
   "outputs": [],
   "source": []
  },
  {
   "cell_type": "code",
   "execution_count": null,
   "metadata": {},
   "outputs": [],
   "source": []
  }
 ],
 "metadata": {
  "kernelspec": {
   "display_name": "Julia 1.4.0",
   "language": "julia",
   "name": "julia-1.4"
  },
  "language_info": {
   "file_extension": ".jl",
   "mimetype": "application/julia",
   "name": "julia",
   "version": "1.4.0"
  },
  "latex_envs": {
   "LaTeX_envs_menu_present": true,
   "autoclose": false,
   "autocomplete": true,
   "bibliofile": "biblio.bib",
   "cite_by": "apalike",
   "current_citInitial": 1,
   "eqLabelWithNumbers": true,
   "eqNumInitial": 1,
   "hotkeys": {
    "equation": "Ctrl-E",
    "itemize": "Ctrl-I"
   },
   "labels_anchors": false,
   "latex_user_defs": false,
   "report_style_numbering": false,
   "user_envs_cfg": false
  }
 },
 "nbformat": 4,
 "nbformat_minor": 2
}
