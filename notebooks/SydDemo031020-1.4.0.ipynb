{
 "cells": [
  {
   "cell_type": "code",
   "execution_count": null,
   "metadata": {},
   "outputs": [],
   "source": [
    "using PortAudio, SampledSignals, LibSndFile"
   ]
  },
  {
   "cell_type": "code",
   "execution_count": null,
   "metadata": {},
   "outputs": [],
   "source": [
    "# Generic Functions\n",
    "louderThanNoise(x) = x > 0.01\n",
    "square(x) = x^2;"
   ]
  },
  {
   "cell_type": "code",
   "execution_count": null,
   "metadata": {},
   "outputs": [],
   "source": [
    "#Input/Output Config\n",
    "InputName = \"Built-in Microphone\"\n",
    "OutputName = \"Built-in Output\"\n",
    "listenDuration = 1s;"
   ]
  },
  {
   "cell_type": "code",
   "execution_count": null,
   "metadata": {},
   "outputs": [],
   "source": [
    "# \"Vocalizable Vocabulary\"\n",
    "lastwords = \"ROSE BUD\"\n",
    "anybody = \"Anybody there?\"\n",
    "hello = \"Glad to see yar 'ere.\";"
   ]
  },
  {
   "cell_type": "code",
   "execution_count": null,
   "metadata": {},
   "outputs": [],
   "source": [
    "#Mainloop\n",
    "function mainloop()\n",
    "    PortAudioStream(InputName, OutputName) do stream\n",
    "        while(true)\n",
    "            buf = read(stream, listenDuration)\n",
    "            if any(louderThanNoise, buf)\n",
    "                run(`espeak $hello`)\n",
    "                return buf\n",
    "            else\n",
    "                run(`espeak $anybody`)\n",
    "            end\n",
    "        end\n",
    "    end\n",
    "end;"
   ]
  },
  {
   "cell_type": "code",
   "execution_count": null,
   "metadata": {},
   "outputs": [],
   "source": [
    "#Listenloop\n",
    "function listenloop()\n",
    "    attention = false\n",
    "    PortAudioStream(InputName, OutputName) do stream\n",
    "        full = read(stream, 0s)\n",
    "        while(true)\n",
    "            buf = read(stream, listenDuration)\n",
    "            if any(louderThanNoise, buf)\n",
    "                if !attention\n",
    "                    #print(\"YOU DON't HAVE MY ATTENTION!\")\n",
    "                    attention = true\n",
    "                    full = buf\n",
    "                else\n",
    "                    #print(\"YOU HAVE MY ATTENTION!\")\n",
    "                    full = vcat(full,buf)\n",
    "                end\n",
    "            elseif attention == false\n",
    "                run(`espeak $anybody`)\n",
    "            else\n",
    "                run(`espeak $hello`)\n",
    "                return full\n",
    "            end\n",
    "        end\n",
    "    end\n",
    "end;"
   ]
  },
  {
   "cell_type": "code",
   "execution_count": null,
   "metadata": {},
   "outputs": [],
   "source": [
    "b = mainloop()\n",
    "b"
   ]
  },
  {
   "cell_type": "code",
   "execution_count": null,
   "metadata": {},
   "outputs": [],
   "source": [
    "b = listenloop()\n",
    "b"
   ]
  }
 ],
 "metadata": {
  "kernelspec": {
   "display_name": "Julia 1.4.0",
   "language": "julia",
   "name": "julia-1.4"
  },
  "language_info": {
   "file_extension": ".jl",
   "mimetype": "application/julia",
   "name": "julia",
   "version": "1.4.0"
  },
  "latex_envs": {
   "LaTeX_envs_menu_present": true,
   "autoclose": false,
   "autocomplete": true,
   "bibliofile": "biblio.bib",
   "cite_by": "apalike",
   "current_citInitial": 1,
   "eqLabelWithNumbers": true,
   "eqNumInitial": 1,
   "hotkeys": {
    "equation": "Ctrl-E",
    "itemize": "Ctrl-I"
   },
   "labels_anchors": false,
   "latex_user_defs": false,
   "report_style_numbering": false,
   "user_envs_cfg": false
  }
 },
 "nbformat": 4,
 "nbformat_minor": 2
}
