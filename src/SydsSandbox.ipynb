{
 "cells": [
  {
   "cell_type": "code",
   "execution_count": null,
   "metadata": {},
   "outputs": [
    {
     "name": "stderr",
     "output_type": "stream",
     "text": [
      "┌ Info: Precompiling SimpleDirectMediaLayer [98e33af6-2ee5-5afd-9e75-cbc738b767c4]\n",
      "└ @ Base loading.jl:1273\n",
      "WARNING: redefining constant libwebpmux_splitpath\n"
     ]
    }
   ],
   "source": [
    "using SimpleDirectMediaLayer\n",
    "const SDL2 = SimpleDirectMediaLayer \n",
    "\n",
    "import SimpleDirectMediaLayer.LoadBMP\n",
    "\n",
    "SDL2.GL_SetAttribute(SDL2.GL_MULTISAMPLEBUFFERS, 16)\n",
    "SDL2.GL_SetAttribute(SDL2.GL_MULTISAMPLESAMPLES, 16)\n",
    "\n",
    "SDL2.init()\n",
    "\n",
    "win = SDL2.CreateWindow(\"Hello World!\", Int32(100), Int32(100), Int32(800), Int32(600), \n",
    "    UInt32(SDL2.WINDOW_SHOWN))\n",
    "SDL2.SetWindowResizable(win,true)\n",
    "\n",
    "renderer = SDL2.CreateRenderer(win, Int32(-1),\n",
    "    UInt32(SDL2.RENDERER_ACCELERATED | SDL2.RENDERER_PRESENTVSYNC))\n",
    "\n",
    "import Base.unsafe_convert\n",
    "unsafe_convert(::Type{Ptr{SDL2.RWops}}, s::String) = SDL2.RWFromFile(s, \"rb\")\n",
    "\n",
    "LoadBMP(src::String) = SDL2.LoadBMP_RW(src,Int32(1))\n",
    "\n",
    "bkg = SDL2.Color(200, 200, 200, 255)\n",
    "\n",
    "# Create text\n",
    "font = TTF_OpenFont(joinpath(@__DIR__,\"../../assets/fonts/FiraCode/ttf/FiraCode-Regular.ttf\"), 14)\n",
    "#txt = \"@BinDeps.install Dict([ (:glib, :libglib) ])\"\n",
    "txt = \"hi\"\n",
    "text = TTF_RenderText_Blended(font, txt, SDL2.Color(20,20,20,255))\n",
    "tex = SDL2.CreateTextureFromSurface(renderer,text)\n",
    "\n",
    "fx,fy = Int[1], Int[1]\n",
    "TTF_SizeText(font, txt, pointer(fx), pointer(fy))\n",
    "fx,fy = fx[1],fy[1]\n",
    "\n",
    "#img = SDL2.LoadBMP(\"LB2951.jpg\")\n",
    "#tex = SDL2.CreateTextureFromSurface(ren, img)\n",
    "#SDL2.FreeSurface(img)\n",
    "\n",
    "for i = 1:200\n",
    "    x,y = Int[1], Int[1]\n",
    "    SDL2.PumpEvents()\n",
    "    SDL2.GetMouseState(pointer(x), pointer(y))\n",
    "\n",
    "    # Set render color to red ( background will be rendered in this color )\n",
    "    SDL2.SetRenderDrawColor(renderer, 200, 200, 200, 255)\n",
    "    SDL2.RenderClear(renderer)\n",
    "\n",
    "    SDL2.SetRenderDrawColor(renderer, 20, 50, 105, 255)\n",
    "    SDL2.RenderDrawLine(renderer,0,0,800,600)\n",
    "\n",
    "    rect = SDL2.Rect(1,1,200,200)\n",
    "    SDL2.RenderFillRect(renderer, pointer_from_objref(rect) )\n",
    "    SDL2.RenderCopy(renderer, tex, C_NULL, pointer_from_objref(SDL2.Rect(x[1],y[1],fx,fy)))\n",
    "\n",
    "    SDL2.RenderPresent(renderer)\n",
    "    sleep(0.001)\n",
    "end\n",
    "SDL2.Quit()"
   ]
  },
  {
   "cell_type": "code",
   "execution_count": null,
   "metadata": {},
   "outputs": [],
   "source": []
  },
  {
   "cell_type": "code",
   "execution_count": null,
   "metadata": {},
   "outputs": [],
   "source": []
  },
  {
   "cell_type": "code",
   "execution_count": null,
   "metadata": {},
   "outputs": [],
   "source": []
  }
 ],
 "metadata": {
  "kernelspec": {
   "display_name": "Julia 1.3.0",
   "language": "julia",
   "name": "julia-1.3"
  },
  "language_info": {
   "file_extension": ".jl",
   "mimetype": "application/julia",
   "name": "julia",
   "version": "1.3.0"
  },
  "latex_envs": {
   "LaTeX_envs_menu_present": true,
   "autoclose": false,
   "autocomplete": true,
   "bibliofile": "biblio.bib",
   "cite_by": "apalike",
   "current_citInitial": 1,
   "eqLabelWithNumbers": true,
   "eqNumInitial": 1,
   "hotkeys": {
    "equation": "Ctrl-E",
    "itemize": "Ctrl-I"
   },
   "labels_anchors": false,
   "latex_user_defs": false,
   "report_style_numbering": false,
   "user_envs_cfg": false
  }
 },
 "nbformat": 4,
 "nbformat_minor": 2
}
